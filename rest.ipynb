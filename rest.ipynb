{
 "cells": [
  {
   "cell_type": "code",
   "execution_count": 1,
   "metadata": {},
   "outputs": [
    {
     "data": {
      "text/plain": [
       "<Response [200]>"
      ]
     },
     "execution_count": 1,
     "metadata": {},
     "output_type": "execute_result"
    }
   ],
   "source": [
    "# Fetch data\n",
    "\n",
    "import requests\n",
    "requests.get(\"https://randomuser.me/api/\")"
   ]
  },
  {
   "cell_type": "code",
   "execution_count": 2,
   "metadata": {},
   "outputs": [
    {
     "data": {
      "text/plain": [
       "'{\"results\":[{\"gender\":\"female\",\"name\":{\"title\":\"Miss\",\"first\":\"Mathilda\",\"last\":\"Laursen\"},\"location\":{\"street\":{\"number\":8222,\"name\":\"Utsikten\"},\"city\":\"Siljan\",\"state\":\"Telemark\",\"country\":\"Norway\",\"postcode\":\"7513\",\"coordinates\":{\"latitude\":\"44.1021\",\"longitude\":\"81.9514\"},\"timezone\":{\"offset\":\"+5:45\",\"description\":\"Kathmandu\"}},\"email\":\"mathilda.laursen@example.com\",\"login\":{\"uuid\":\"a70bdebc-bca2-4c99-85d7-2c490253abbe\",\"username\":\"heavycat778\",\"password\":\"somethin\",\"salt\":\"VNkWLMVv\",\"md5\":\"5995a9ebe6f9ce8583bc4b1f36895299\",\"sha1\":\"9a99122956e8280e13c7c49e0e3fc930fd1e94ff\",\"sha256\":\"c0f930d37edc35f4135ebae5efea6761995532d3944aa6643c4068d18aa61058\"},\"dob\":{\"date\":\"1962-01-16T12:13:49.960Z\",\"age\":63},\"registered\":{\"date\":\"2014-02-05T17:36:16.328Z\",\"age\":11},\"phone\":\"33167681\",\"cell\":\"46589048\",\"id\":{\"name\":\"FN\",\"value\":\"16016229001\"},\"picture\":{\"large\":\"https://randomuser.me/api/portraits/women/1.jpg\",\"medium\":\"https://randomuser.me/api/portraits/med/women/1.jpg\",\"thumbnail\":\"https://randomuser.me/api/portraits/thumb/women/1.jpg\"},\"nat\":\"NO\"}],\"info\":{\"seed\":\"774c30ba847b8e70\",\"results\":1,\"page\":1,\"version\":\"1.4\"}}'"
      ]
     },
     "execution_count": 2,
     "metadata": {},
     "output_type": "execute_result"
    }
   ],
   "source": [
    "# See results\n",
    "\n",
    "import requests\n",
    "response = requests.get(\"https://randomuser.me/api/\")\n",
    "response.text"
   ]
  },
  {
   "cell_type": "code",
   "execution_count": 3,
   "metadata": {},
   "outputs": [
    {
     "data": {
      "text/plain": [
       "'{\"message\":\"The Cat API\",\"version\":\"1.3.9\"}'"
      ]
     },
     "execution_count": 3,
     "metadata": {},
     "output_type": "execute_result"
    }
   ],
   "source": [
    "import requests\n",
    "response = requests.get(\"https://api.thecatapi.com/\")\n",
    "response.text"
   ]
  },
  {
   "cell_type": "code",
   "execution_count": 4,
   "metadata": {},
   "outputs": [
    {
     "data": {
      "text/plain": [
       "'[{\"weight\":{\"imperial\":\"6 - 13\",\"metric\":\"3 - 6\"},\"height\":{\"imperial\":\"9 - 11.5\",\"metric\":\"23 - 29\"},\"id\":1,\"name\":\"Affenpinscher\",\"bred_for\":\"Small rodent hunting, lapdog\",\"breed_group\":\"Toy\",\"life_span\":\"10 - 12 years\",\"temperament\":\"Stubborn, Curious, Playful, Adventurous, Active, Fun-loving\",\"origin\":\"Germany, France\",\"reference_image_id\":\"BJa4kxc4X\"},{\"weight\":{\"imperial\":\"50 - 60\",\"metric\":\"23 - 27\"},\"height\":{\"imperial\":\"25 - 27\",\"metric\":\"64 - 69\"},\"id\":2,\"name\":\"Afghan Hound\",\"country_code\":\"AG\",\"bred_for\":\"Coursing and hunting\",\"breed_group\":\"Hound\",\"life_span\":\"10 - 13 years\",\"temperament\":\"Aloof, Clownish, Dignified, Independent, Happy\",\"origin\":\"Afghanistan, Iran, Pakistan\",\"reference_image_id\":\"hMyT4CDXR\"},{\"weight\":{\"imperial\":\"44 - 66\",\"metric\":\"20 - 30\"},\"height\":{\"imperial\":\"30\",\"metric\":\"76\"},\"id\":3,\"name\":\"African Hunting Dog\",\"bred_for\":\"A wild pack animal\",\"life_span\":\"11 years\",\"temperament\":\"Wild, Hardworking, Dutiful\",\"origin\":\"\",\"reference_image_id\":\"rkiByec47\"},{\"weight\":{\"imperial\":\"40 - 65\",\"metric\":\"18 - 29\"},\"height\":{\"imperial\":\"21 - 23\",\"metric\":\"53 - 58\"},\"id\":4,\"name\":\"Airedale Terrier\",\"bred_for\":\"Badger, otter hunting\",\"breed_group\":\"Terrier\",\"life_span\":\"10 - 13 years\",\"temperament\":\"Outgoing, Friendly, Alert, Confident, Intelligent, Courageous\",\"origin\":\"United Kingdom, England\",\"reference_image_id\":\"1-7cgoZSh\"},{\"weight\":{\"imperial\":\"90 - 120\",\"metric\":\"41 - 54\"},\"height\":{\"imperial\":\"28 - 34\",\"metric\":\"71 - 86\"},\"id\":5,\"name\":\"Akbash Dog\",\"bred_for\":\"Sheep guarding\",\"breed_group\":\"Working\",\"life_span\":\"10 - 12 years\",\"temperament\":\"Loyal, Independent, Intelligent, Brave\",\"origin\":\"\",\"reference_image_id\":\"26pHT3Qk7\"},{\"weight\":{\"imperial\":\"65 - 115\",\"metric\":\"29 - 52\"},\"height\":{\"imperial\":\"24 - 28\",\"metric\":\"61 - 71\"},\"id\":6,\"name\":\"Akita\",\"bred_for\":\"Hunting bears\",\"breed_group\":\"Working\",\"life_span\":\"10 - 14 years\",\"temperament\":\"Docile, Alert, Responsive, Dignified, Composed, Friendly, Receptive, Faithful, Courageous\",\"reference_image_id\":\"BFRYBufpm\"},{\"weight\":{\"imperial\":\"55 - 90\",\"metric\":\"25 - 41\"},\"height\":{\"imperial\":\"18 - 24\",\"metric\":\"46 - 61\"},\"id\":7,\"name\":\"Alapaha Blue Blood Bulldog\",\"description\":\"The Alapaha Blue Blood Bulldog is a well-developed, exaggerated bulldog with a broad head and natural drop ears. The prominent muzzle is covered by loose upper lips. The prominent eyes are set well apart. The Alapaha\\'s coat is relatively short and fairly stiff. Preferred colors are blue merle, brown merle, or red merle all trimmed in white or chocolate and white. Also preferred are the glass eyes (blue) or marble eyes (brown and blue mixed in a single eye). The ears and tail are never trimmed or docked. The body is sturdy and very muscular. The well-muscled hips are narrower than the chest. The straight back is as long as the dog is high at the shoulders. The dewclaws are never removed and the feet are cat-like.\",\"bred_for\":\"Guarding\",\"breed_group\":\"Mixed\",\"life_span\":\"12 - 13 years\",\"history\":\"\",\"temperament\":\"Loving, Protective, Trainable, Dutiful, Responsible\",\"reference_image_id\":\"33mJ-V3RX\"},{\"weight\":{\"imperial\":\"38 - 50\",\"metric\":\"17 - 23\"},\"height\":{\"imperial\":\"23 - 26\",\"metric\":\"58 - 66\"},\"id\":8,\"name\":\"Alaskan Husky\",\"bred_for\":\"Sled pulling\",\"breed_group\":\"Mixed\",\"life_span\":\"10 - 13 years\",\"temperament\":\"Friendly, Energetic, Loyal, Gentle, Confident\",\"reference_image_id\":\"-HgpNnGXl\"},{\"weight\":{\"imperial\":\"65 - 100\",\"metric\":\"29 - 45\"},\"height\":{\"imperial\":\"23 - 25\",\"metric\":\"58 - 64\"},\"id\":9,\"name\":\"Alaskan Malamute\",\"bred_for\":\"Hauling heavy freight, Sled pulling\",\"breed_group\":\"Working\",\"life_span\":\"12 - 15 years\",\"temperament\":\"Friendly, Affectionate, Devoted, Loyal, Dignified, Playful\",\"reference_image_id\":\"dW5UucTIW\"},{\"weight\":{\"imperial\":\"60 - 120\",\"metric\":\"27 - 54\"},\"height\":{\"imperial\":\"22 - 27\",\"metric\":\"56 - 69\"},\"id\":10,\"name\":\"American Bulldog\",\"breed_group\":\"Working\",\"life_span\":\"10 - 12 years\",\"temperament\":\"Friendly, Assertive, Energetic, Loyal, Gentle, Confident, Dominant\",\"reference_image_id\":\"pk1AAdloG\"},{\"weight\":{\"imperial\":\"30 - 150\",\"metric\":\"14 - 68\"},\"height\":{\"imperial\":\"14 - 17\",\"metric\":\"36 - 43\"},\"id\":11,\"name\":\"American Bully\",\"country_code\":\"US\",\"bred_for\":\"Family companion dog\",\"breed_group\":\"\",\"life_span\":\"8 – 15 years\",\"temperament\":\"Strong Willed, Stubborn, Friendly, Clownish, Affectionate, Loyal, Obedient, Intelligent, Courageous\",\"reference_image_id\":\"sqQJDtbpY\"},{\"weight\":{\"imperial\":\"20 - 40\",\"metric\":\"9 - 18\"},\"height\":{\"imperial\":\"15 - 19\",\"metric\":\"38 - 48\"},\"id\":12,\"name\":\"American Eskimo Dog\",\"country_code\":\"US\",\"bred_for\":\"Circus performer\",\"breed_group\":\"Non-Sporting\",\"life_span\":\"12 - 15 years\",\"temperament\":\"Friendly, Alert, Reserved, Intelligent, Protective\",\"reference_image_id\":\"Bymjyec4m\"},{\"weight\":{\"imperial\":\"7 - 10\",\"metric\":\"3 - 5\"},\"height\":{\"imperial\":\"9 - 12\",\"metric\":\"23 - 30\"},\"id\":13,\"name\":\"American Eskimo Dog (Miniature)\",\"country_code\":\"US\",\"bred_for\":\"Companionship\",\"life_span\":\"13 – 15 years\",\"temperament\":\"Friendly, Alert, Reserved, Intelligent, Protective\",\"reference_image_id\":\"_gn8GLrE6\"},{\"weight\":{\"imperial\":\"65 - 75\",\"metric\":\"29 - 34\"},\"height\":{\"imperial\":\"21 - 28\",\"metric\":\"53 - 71\"},\"id\":14,\"name\":\"American Foxhound\",\"country_code\":\"US\",\"bred_for\":\"Fox hunting, scent hound\",\"breed_group\":\"Hound\",\"life_span\":\"8 - 15 years\",\"temperament\":\"Kind, Sweet-Tempered, Loyal, Independent, Intelligent, Loving\",\"reference_image_id\":\"S14n1x9NQ\"},{\"weight\":{\"imperial\":\"30 - 60\",\"metric\":\"14 - 27\"},\"height\":{\"imperial\":\"17 - 21\",\"metric\":\"43 - 53\"},\"id\":15,\"name\":\"American Pit Bull Terrier\",\"country_code\":\"US\",\"bred_for\":\"Fighting\",\"breed_group\":\"Terrier\",\"life_span\":\"10 - 15 years\",\"temperament\":\"Strong Willed, Stubborn, Friendly, Clownish, Affectionate, Loyal, Obedient, Intelligent, Courageous\",\"reference_image_id\":\"HkC31gcNm\"},{\"weight\":{\"imperial\":\"50 - 60\",\"metric\":\"23 - 27\"},\"height\":{\"imperial\":\"17 - 19\",\"metric\":\"43 - 48\"},\"id\":16,\"name\":\"American Staffordshire Terrier\",\"country_code\":\"US\",\"bred_for\":\"\",\"breed_group\":\"Terrier\",\"life_span\":\"12 - 15 years\",\"temperament\":\"Tenacious, Friendly, Devoted, Loyal, Attentive, Courageous\",\"reference_image_id\":\"rJIakgc4m\"},{\"weight\":{\"imperial\":\"25 - 45\",\"metric\":\"11 - 20\"},\"height\":{\"imperial\":\"15 - 18\",\"metric\":\"38 - 46\"},\"id\":17,\"name\":\"American Water Spaniel\",\"country_code\":\"US\",\"bred_for\":\"Bird flushing and retrieving\",\"breed_group\":\"Sporting\",\"life_span\":\"10 - 12 years\",\"temperament\":\"Friendly, Energetic, Obedient, Intelligent, Protective, Trainable\",\"reference_image_id\":\"SkmRJl9VQ\"},{\"weight\":{\"imperial\":\"80 - 150\",\"metric\":\"36 - 68\"},\"height\":{\"imperial\":\"27 - 29\",\"metric\":\"69 - 74\"},\"id\":18,\"name\":\"Anatolian Shepherd Dog\",\"bred_for\":\"Livestock herding\",\"breed_group\":\"Working\",\"life_span\":\"11 - 13 years\",\"temperament\":\"Steady, Bold, Independent, Confident, Intelligent, Proud\",\"reference_image_id\":\"BJT0Jx5Nm\"},{\"weight\":{\"imperial\":\"48 - 55\",\"metric\":\"22 - 25\"},\"height\":{\"imperial\":\"20 - 22\",\"metric\":\"51 - 56\"},\"id\":19,\"name\":\"Appenzeller Sennenhund\",\"bred_for\":\"Herding livestock, pulling carts, and guarding the farm\",\"life_span\":\"12 – 14 years\",\"temperament\":\"Reliable, Fearless, Energetic, Lively, Self-assured\",\"reference_image_id\":\"HkNkxlqEX\"},{\"weight\":{\"imperial\":\"44 - 62\",\"metric\":\"20 - 28\"},\"height\":{\"imperial\":\"17 - 20\",\"metric\":\"43 - 51\"},\"id\":21,\"name\":\"Australian Cattle Dog\",\"country_code\":\"AU\",\"bred_for\":\"Cattle herding, herding trials\",\"breed_group\":\"Herding\",\"life_span\":\"12 - 14 years\",\"temperament\":\"Cautious, Energetic, Loyal, Obedient, Protective, Brave\",\"reference_image_id\":\"IBkYVm4v1\"},{\"weight\":{\"imperial\":\"31 - 46\",\"metric\":\"14 - 21\"},\"height\":{\"imperial\":\"17 - 20\",\"metric\":\"43 - 51\"},\"id\":22,\"name\":\"Australian Kelpie\",\"country_code\":\"AU\",\"bred_for\":\"Farm dog, Cattle herding\",\"breed_group\":\"Herding\",\"life_span\":\"10 - 13 years\",\"temperament\":\"Friendly, Energetic, Alert, Loyal, Intelligent, Eager\",\"reference_image_id\":\"Hyq1ge9VQ\"},{\"weight\":{\"imperial\":\"35 - 65\",\"metric\":\"16 - 29\"},\"height\":{\"imperial\":\"18 - 23\",\"metric\":\"46 - 58\"},\"id\":23,\"name\":\"Australian Shepherd\",\"country_code\":\"AU\",\"bred_for\":\"Sheep herding\",\"breed_group\":\"Herding\",\"life_span\":\"12 - 16 years\",\"temperament\":\"Good-natured, Affectionate, Intelligent, Active, Protective\",\"reference_image_id\":\"B1-llgq4m\"},{\"weight\":{\"imperial\":\"14 - 16\",\"metric\":\"6 - 7\"},\"height\":{\"imperial\":\"10 - 11\",\"metric\":\"25 - 28\"},\"id\":24,\"name\":\"Australian Terrier\",\"country_code\":\"AU\",\"bred_for\":\"Cattle herdering, hunting snakes and rodents\",\"breed_group\":\"Terrier\",\"life_span\":\"15 years\",\"temperament\":\"Spirited, Alert, Loyal, Companionable, Even Tempered, Courageous\",\"reference_image_id\":\"r1Ylge5Vm\"},{\"weight\":{\"imperial\":\"33 - 55\",\"metric\":\"15 - 25\"},\"height\":{\"imperial\":\"23 - 29\",\"metric\":\"58 - 74\"},\"id\":25,\"name\":\"Azawakh\",\"bred_for\":\"Livestock guardian, hunting\",\"breed_group\":\"Hound\",\"life_span\":\"10 - 13 years\",\"temperament\":\"Aloof, Affectionate, Attentive, Rugged, Fierce, Refined\",\"reference_image_id\":\"SkvZgx94m\"},{\"weight\":{\"imperial\":\"40 - 65\",\"metric\":\"18 - 29\"},\"height\":{\"imperial\":\"20 - 26\",\"metric\":\"51 - 66\"},\"id\":26,\"name\":\"Barbet\",\"bred_for\":\"Hunting water game\",\"life_span\":\"13 – 15 years\",\"temperament\":\"Obedient, Companionable, Intelligent, Joyful\",\"reference_image_id\":\"HyWGexcVQ\"},{\"weight\":{\"imperial\":\"22 - 24\",\"metric\":\"10 - 11\"},\"height\":{\"imperial\":\"16 - 17\",\"metric\":\"41 - 43\"},\"id\":28,\"name\":\"Basenji\",\"bred_for\":\"Hunting\",\"breed_group\":\"Hound\",\"life_span\":\"10 - 12 years\",\"temperament\":\"Affectionate, Energetic, Alert, Curious, Playful, Intelligent\",\"reference_image_id\":\"H1dGlxqNQ\"},{\"weight\":{\"imperial\":\"35 - 40\",\"metric\":\"16 - 18\"},\"height\":{\"imperial\":\"13 - 15\",\"metric\":\"33 - 38\"},\"id\":29,\"name\":\"Basset Bleu de Gascogne\",\"bred_for\":\"Hunting on foot.\",\"breed_group\":\"Hound\",\"life_span\":\"10 - 14 years\",\"temperament\":\"Affectionate, Lively, Agile, Curious, Happy, Active\",\"reference_image_id\":\"BkMQll94X\"},{\"weight\":{\"imperial\":\"50 - 65\",\"metric\":\"23 - 29\"},\"height\":{\"imperial\":\"14\",\"metric\":\"36\"},\"id\":30,\"name\":\"Basset Hound\",\"bred_for\":\"Hunting by scent\",\"breed_group\":\"Hound\",\"life_span\":\"12 - 15 years\",\"temperament\":\"Tenacious, Friendly, Affectionate, Devoted, Sweet-Tempered, Gentle\",\"reference_image_id\":\"Sy57xx9EX\"},{\"weight\":{\"imperial\":\"20 - 35\",\"metric\":\"9 - 16\"},\"height\":{\"imperial\":\"13 - 15\",\"metric\":\"33 - 38\"},\"id\":31,\"name\":\"Beagle\",\"bred_for\":\"Rabbit, hare hunting\",\"breed_group\":\"Hound\",\"life_span\":\"13 - 16 years\",\"temperament\":\"Amiable, Even Tempered, Excitable, Determined, Gentle, Intelligent\",\"reference_image_id\":\"Syd4xxqEm\"},{\"weight\":{\"imperial\":\"45 - 55\",\"metric\":\"20 - 25\"},\"height\":{\"imperial\":\"20 - 22\",\"metric\":\"51 - 56\"},\"id\":32,\"name\":\"Bearded Collie\",\"bred_for\":\"Sheep herding\",\"breed_group\":\"Herding\",\"life_span\":\"12 - 14 years\",\"temperament\":\"Self-confidence, Hardy, Lively, Alert, Intelligent, Active\",\"reference_image_id\":\"A09F4c1qP\"},{\"weight\":{\"imperial\":\"80 - 110\",\"metric\":\"36 - 50\"},\"height\":{\"imperial\":\"24 - 27.5\",\"metric\":\"61 - 70\"},\"id\":33,\"name\":\"Beauceron\",\"bred_for\":\"Boar herding, hunting, guarding\",\"breed_group\":\"Herding\",\"life_span\":\"10 - 12 years\",\"temperament\":\"Fearless, Friendly, Intelligent, Protective, Calm\",\"reference_image_id\":\"HJQ8ge5V7\"},{\"weight\":{\"imperial\":\"17 - 23\",\"metric\":\"8 - 10\"},\"height\":{\"imperial\":\"15 - 16\",\"metric\":\"38 - 41\"},\"id\":34,\"name\":\"Bedlington Terrier\",\"bred_for\":\"Killing rat, badger, other vermin\",\"breed_group\":\"Terrier\",\"life_span\":\"14 - 16 years\",\"temperament\":\"Affectionate, Spirited, Intelligent, Good-tempered\",\"reference_image_id\":\"ByK8gx947\"},{\"weight\":{\"imperial\":\"40 - 80\",\"metric\":\"18 - 36\"},\"height\":{\"imperial\":\"22 - 26\",\"metric\":\"56 - 66\"},\"id\":36,\"name\":\"Belgian Malinois\",\"bred_for\":\"Stock herding\",\"breed_group\":\"Herding\",\"life_span\":\"12 - 14 years\",\"temperament\":\"Watchful, Alert, Stubborn, Friendly, Confident, Hard-working, Active, Protective\",\"reference_image_id\":\"r1f_ll5VX\"},{\"weight\":{\"imperial\":\"40 - 65\",\"metric\":\"18 - 29\"},\"height\":{\"imperial\":\"22 - 26\",\"metric\":\"56 - 66\"},\"id\":38,\"name\":\"Belgian Tervuren\",\"bred_for\":\"Guarding, Drafting, Police work.\",\"breed_group\":\"Herding\",\"life_span\":\"10 - 12 years\",\"temperament\":\"Energetic, Alert, Loyal, Intelligent, Attentive, Protective\",\"reference_image_id\":\"B1KdxlcNX\"},{\"weight\":{\"imperial\":\"65 - 120\",\"metric\":\"29 - 54\"},\"height\":{\"imperial\":\"23 - 27.5\",\"metric\":\"58 - 70\"},\"id\":41,\"name\":\"Bernese Mountain Dog\",\"bred_for\":\"Draft work\",\"breed_group\":\"Working\",\"life_span\":\"7 - 10 years\",\"temperament\":\"Affectionate, Loyal, Intelligent, Faithful\",\"reference_image_id\":\"S1fFlx5Em\"},{\"weight\":{\"imperial\":\"10 - 18\",\"metric\":\"5 - 8\"},\"height\":{\"imperial\":\"9.5 - 11.5\",\"metric\":\"24 - 29\"},\"id\":42,\"name\":\"Bichon Frise\",\"bred_for\":\"Companion\",\"breed_group\":\"Non-Sporting\",\"life_span\":\"15 years\",\"temperament\":\"Feisty, Affectionate, Cheerful, Playful, Gentle, Sensitive\",\"reference_image_id\":\"HkuYlxqEQ\"},{\"weight\":{\"imperial\":\"65 - 100\",\"metric\":\"29 - 45\"},\"height\":{\"imperial\":\"23 - 27\",\"metric\":\"58 - 69\"},\"id\":43,\"name\":\"Black and Tan Coonhound\",\"bred_for\":\"Hunting raccoons, night hunting\",\"breed_group\":\"Hound\",\"life_span\":\"10 - 12 years\",\"temperament\":\"Easygoing, Gentle, Adaptable, Trusting, Even Tempered, Lovable\",\"reference_image_id\":\"HJAFgxcNQ\"},{\"weight\":{\"imperial\":\"80 - 110\",\"metric\":\"36 - 50\"},\"height\":{\"imperial\":\"23 - 27\",\"metric\":\"58 - 69\"},\"id\":45,\"name\":\"Bloodhound\",\"bred_for\":\"Trailing\",\"breed_group\":\"Hound\",\"life_span\":\"8 - 10 years\",\"temperament\":\"Stubborn, Affectionate, Gentle, Even Tempered\",\"reference_image_id\":\"Skdcgx9VX\"},{\"weight\":{\"imperial\":\"45 - 80\",\"metric\":\"20 - 36\"},\"height\":{\"imperial\":\"21 - 27\",\"metric\":\"53 - 69\"},\"id\":47,\"name\":\"Bluetick Coonhound\",\"bred_for\":\"Hunting with a superior sense of smell.\",\"breed_group\":\"Hound\",\"life_span\":\"12 - 14 years\",\"temperament\":\"Friendly, Intelligent, Active\",\"reference_image_id\":\"rJxieg9VQ\"},{\"weight\":{\"imperial\":\"110 - 200\",\"metric\":\"50 - 91\"},\"height\":{\"imperial\":\"22 - 27\",\"metric\":\"56 - 69\"},\"id\":48,\"name\":\"Boerboel\",\"bred_for\":\"Guarding the homestead, farm work.\",\"breed_group\":\"Working\",\"life_span\":\"10 - 12 years\",\"temperament\":\"Obedient, Confident, Intelligent, Dominant, Territorial\",\"reference_image_id\":\"HyOjge5Vm\"},{\"weight\":{\"imperial\":\"30 - 45\",\"metric\":\"14 - 20\"},\"height\":{\"imperial\":\"18 - 22\",\"metric\":\"46 - 56\"},\"id\":50,\"name\":\"Border Collie\",\"bred_for\":\"Sheep herder\",\"breed_group\":\"Herding\",\"life_span\":\"12 - 16 years\",\"temperament\":\"Tenacious, Keen, Energetic, Responsive, Alert, Intelligent\",\"reference_image_id\":\"sGQvQUpsp\"},{\"weight\":{\"imperial\":\"11.5 - 15.5\",\"metric\":\"5 - 7\"},\"height\":{\"imperial\":\"11 - 16\",\"metric\":\"28 - 41\"},\"id\":51,\"name\":\"Border Terrier\",\"bred_for\":\"Fox bolting, ratting\",\"breed_group\":\"Terrier\",\"life_span\":\"12 - 14 years\",\"temperament\":\"Fearless, Affectionate, Alert, Obedient, Intelligent, Even Tempered\",\"reference_image_id\":\"HJOpge9Em\"},{\"weight\":{\"imperial\":\"10 - 25\",\"metric\":\"5 - 11\"},\"height\":{\"imperial\":\"16 - 17\",\"metric\":\"41 - 43\"},\"id\":53,\"name\":\"Boston Terrier\",\"bred_for\":\"Ratting, Companionship\",\"breed_group\":\"Non-Sporting\",\"life_span\":\"11 - 13 years\",\"temperament\":\"Friendly, Lively, Intelligent\",\"reference_image_id\":\"rkZRggqVX\"},{\"weight\":{\"imperial\":\"70 - 110\",\"metric\":\"32 - 50\"},\"height\":{\"imperial\":\"23.5 - 27.5\",\"metric\":\"60 - 70\"},\"id\":54,\"name\":\"Bouvier des Flandres\",\"bred_for\":\"Cattle herding\",\"breed_group\":\"Herding\",\"life_span\":\"10 - 15 years\",\"temperament\":\"Protective, Loyal, Gentle, Intelligent, Familial, Rational\",\"reference_image_id\":\"Byd0xl5VX\"},{\"weight\":{\"imperial\":\"50 - 70\",\"metric\":\"23 - 32\"},\"height\":{\"imperial\":\"21.5 - 25\",\"metric\":\"55 - 64\"},\"id\":55,\"name\":\"Boxer\",\"bred_for\":\"Bull-baiting, guardian\",\"breed_group\":\"Working\",\"life_span\":\"8 - 10 years\",\"temperament\":\"Devoted, Fearless, Friendly, Cheerful, Energetic, Loyal, Playful, Confident, Intelligent, Bright, Brave, Calm\",\"reference_image_id\":\"ry1kWe5VQ\"},{\"weight\":{\"imperial\":\"25 - 40\",\"metric\":\"11 - 18\"},\"height\":{\"imperial\":\"14 - 18\",\"metric\":\"36 - 46\"},\"id\":56,\"name\":\"Boykin Spaniel\",\"bred_for\":\"Turkey retrieving\",\"breed_group\":\"Sporting\",\"life_span\":\"10 - 14 years\",\"temperament\":\"Friendly, Energetic, Companionable, Intelligent, Eager, Trainable\",\"reference_image_id\":\"ryHJZlcNX\"},{\"weight\":{\"imperial\":\"55 - 88\",\"metric\":\"25 - 40\"},\"height\":{\"imperial\":\"21.5 - 26.5\",\"metric\":\"55 - 67\"},\"id\":57,\"name\":\"Bracco Italiano\",\"bred_for\":\"Versatile gun dog\",\"breed_group\":\"Sporting\",\"life_span\":\"10 - 12 years\",\"temperament\":\"Stubborn, Affectionate, Loyal, Playful, Companionable, Trainable\",\"reference_image_id\":\"S13yZg5VQ\"},{\"weight\":{\"imperial\":\"70 - 90\",\"metric\":\"32 - 41\"},\"height\":{\"imperial\":\"22 - 27\",\"metric\":\"56 - 69\"},\"id\":58,\"name\":\"Briard\",\"bred_for\":\"Herding, guarding sheep\",\"breed_group\":\"Herding\",\"life_span\":\"10 - 12 years\",\"temperament\":\"Fearless, Loyal, Obedient, Intelligent, Faithful, Protective\",\"reference_image_id\":\"rkVlblcEQ\"},{\"weight\":{\"imperial\":\"30 - 45\",\"metric\":\"14 - 20\"},\"height\":{\"imperial\":\"17.5 - 20.5\",\"metric\":\"44 - 52\"},\"id\":59,\"name\":\"Brittany\",\"bred_for\":\"Pointing, retrieving\",\"breed_group\":\"Sporting\",\"life_span\":\"12 - 14 years\",\"temperament\":\"Agile, Adaptable, Quick, Intelligent, Attentive, Happy\",\"reference_image_id\":\"HJWZZxc4X\"},{\"weight\":{\"imperial\":\"50 - 70\",\"metric\":\"23 - 32\"},\"height\":{\"imperial\":\"21 - 22\",\"metric\":\"53 - 56\"},\"id\":61,\"name\":\"Bull Terrier\",\"bred_for\":\"Bull baiting, Fighting\",\"breed_group\":\"Terrier\",\"life_span\":\"10 - 12 years\",\"temperament\":\"Trainable, Protective, Sweet-Tempered, Keen, Active\",\"reference_image_id\":\"VSraIEQGd\"},{\"weight\":{\"imperial\":\"25 - 33\",\"metric\":\"11 - 15\"},\"height\":{\"imperial\":\"10 - 14\",\"metric\":\"25 - 36\"},\"id\":62,\"name\":\"Bull Terrier (Miniature)\",\"bred_for\":\"An elegant man\\'s fashion statement\",\"life_span\":\"11 – 14 years\",\"temperament\":\"Trainable, Protective, Sweet-Tempered, Keen, Active, Territorial\",\"reference_image_id\":\"BkKZWlcVX\"},{\"weight\":{\"imperial\":\"100 - 130\",\"metric\":\"45 - 59\"},\"height\":{\"imperial\":\"24 - 27\",\"metric\":\"61 - 69\"},\"id\":64,\"name\":\"Bullmastiff\",\"bred_for\":\"Estate guardian\",\"breed_group\":\"Working\",\"life_span\":\"8 - 12 years\",\"temperament\":\"Docile, Reliable, Devoted, Alert, Loyal, Reserved, Loving, Protective, Powerful, Calm, Courageous\",\"reference_image_id\":\"r1ifZl5E7\"},{\"weight\":{\"imperial\":\"13 - 14\",\"metric\":\"6 - 6\"},\"height\":{\"imperial\":\"9 - 10\",\"metric\":\"23 - 25\"},\"id\":65,\"name\":\"Cairn Terrier\",\"bred_for\":\"Bolting of otter, foxes, other vermin\",\"breed_group\":\"Terrier\",\"life_span\":\"14 - 15 years\",\"temperament\":\"Hardy, Fearless, Assertive, Gay, Intelligent, Active\",\"reference_image_id\":\"Sk7Qbg9E7\"},{\"weight\":{\"imperial\":\"88 - 120\",\"metric\":\"40 - 54\"},\"height\":{\"imperial\":\"23.5 - 27.5\",\"metric\":\"60 - 70\"},\"id\":67,\"name\":\"Cane Corso\",\"bred_for\":\"Companion, guard dog, and hunter\",\"breed_group\":\"Working\",\"life_span\":\"10 - 11 years\",\"temperament\":\"Trainable, Reserved, Stable, Quiet, Even Tempered, Calm\",\"reference_image_id\":\"r15m-lc4m\"},{\"weight\":{\"imperial\":\"25 - 38\",\"metric\":\"11 - 17\"},\"height\":{\"imperial\":\"10.5 - 12.5\",\"metric\":\"27 - 32\"},\"id\":68,\"name\":\"Cardigan Welsh Corgi\",\"bred_for\":\"Cattle droving\",\"breed_group\":\"Herding\",\"life_span\":\"12 - 14 years\",\"temperament\":\"Affectionate, Devoted, Alert, Companionable, Intelligent, Active\",\"reference_image_id\":\"SyXN-e9NX\"},{\"weight\":{\"imperial\":\"50 - 95\",\"metric\":\"23 - 43\"},\"height\":{\"imperial\":\"20 - 26\",\"metric\":\"51 - 66\"},\"id\":69,\"name\":\"Catahoula Leopard Dog\",\"bred_for\":\"Driving livestock\",\"breed_group\":\"Herding\",\"life_span\":\"10 - 12 years\",\"temperament\":\"Energetic, Inquisitive, Independent, Gentle, Intelligent, Loving\",\"reference_image_id\":\"BJcNbec4X\"},{\"weight\":{\"imperial\":\"80 - 100\",\"metric\":\"36 - 45\"},\"height\":{\"imperial\":\"24 - 33.5\",\"metric\":\"61 - 85\"},\"id\":70,\"name\":\"Caucasian Shepherd (Ovcharka)\",\"bred_for\":\"Guard dogs, defending sheep from predators, mainly wolves, jackals and bears\",\"breed_group\":\"Working\",\"life_span\":\"10 - 12 years\",\"temperament\":\"Alert, Quick, Dominant, Powerful, Calm, Strong\",\"reference_image_id\":\"r1rrWe5Em\"},{\"weight\":{\"imperial\":\"13 - 18\",\"metric\":\"6 - 8\"},\"height\":{\"imperial\":\"12 - 13\",\"metric\":\"30 - 33\"},\"id\":71,\"name\":\"Cavalier King Charles Spaniel\",\"bred_for\":\"Flushing small birds, companion\",\"breed_group\":\"Toy\",\"life_span\":\"10 - 14 years\",\"temperament\":\"Fearless, Affectionate, Sociable, Patient, Playful, Adaptable\",\"reference_image_id\":\"HJRBbe94Q\"},{\"weight\":{\"imperial\":\"55 - 80\",\"metric\":\"25 - 36\"},\"height\":{\"imperial\":\"21 - 26\",\"metric\":\"53 - 66\"},\"id\":76,\"name\":\"Chesapeake Bay Retriever\",\"bred_for\":\"Water Retriever\",\"breed_group\":\"Sporting\",\"life_span\":\"10 - 13 years\",\"temperament\":\"Affectionate, Intelligent, Quiet, Dominant, Happy, Protective\",\"reference_image_id\":\"9BXwUeCc2\"},{\"weight\":{\"imperial\":\"10 - 13\",\"metric\":\"5 - 6\"},\"height\":{\"imperial\":\"11 - 13\",\"metric\":\"28 - 33\"},\"id\":78,\"name\":\"Chinese Crested\",\"bred_for\":\"Ratting, lapdog, curio\",\"breed_group\":\"Toy\",\"life_span\":\"10 - 14 years\",\"temperament\":\"Affectionate, Sweet-Tempered, Lively, Alert, Playful, Happy\",\"reference_image_id\":\"B1pDZx9Nm\"},{\"weight\":{\"imperial\":\"45 - 60\",\"metric\":\"20 - 27\"},\"height\":{\"imperial\":\"18 - 20\",\"metric\":\"46 - 51\"},\"id\":79,\"name\":\"Chinese Shar-Pei\",\"bred_for\":\"Fighting\",\"breed_group\":\"Non-Sporting\",\"life_span\":\"10 years\",\"temperament\":\"Suspicious, Affectionate, Devoted, Reserved, Independent, Loving\",\"reference_image_id\":\"B1ruWl94Q\"},{\"weight\":{\"imperial\":\"50 - 90\",\"metric\":\"23 - 41\"},\"height\":{\"imperial\":\"22 - 26\",\"metric\":\"56 - 66\"},\"id\":80,\"name\":\"Chinook\",\"bred_for\":\"Sled pulling\",\"breed_group\":\"Working\",\"life_span\":\"12 - 15 years\",\"temperament\":\"Friendly, Alert, Dignified, Intelligent, Calm\",\"reference_image_id\":\"Sypubg54Q\"},{\"weight\":{\"imperial\":\"40 - 70\",\"metric\":\"18 - 32\"},\"height\":{\"imperial\":\"17 - 20\",\"metric\":\"43 - 51\"},\"id\":81,\"name\":\"Chow Chow\",\"bred_for\":\"Guardian, cart pulling, hunting\",\"breed_group\":\"Non-Sporting\",\"life_span\":\"12 - 15 years\",\"temperament\":\"Aloof, Loyal, Independent, Quiet\",\"reference_image_id\":\"ry8KWgqEQ\"},{\"weight\":{\"imperial\":\"55 - 85\",\"metric\":\"25 - 39\"},\"height\":{\"imperial\":\"17 - 20\",\"metric\":\"43 - 51\"},\"id\":84,\"name\":\"Clumber Spaniel\",\"bred_for\":\"Bird flushing, retrieving\",\"breed_group\":\"Sporting\",\"life_span\":\"10 - 12 years\",\"temperament\":\"Affectionate, Loyal, Dignified, Gentle, Calm, Great-hearted\",\"reference_image_id\":\"rkeqWgq4Q\"},{\"weight\":{\"imperial\":\"20 - 30\",\"metric\":\"9 - 14\"},\"height\":{\"imperial\":\"14 - 15\",\"metric\":\"36 - 38\"},\"id\":86,\"name\":\"Cocker Spaniel\",\"bred_for\":\"Bird flushing, retrieving\",\"breed_group\":\"Sporting\",\"life_span\":\"12 - 15 years\",\"temperament\":\"Trainable, Friendly, Affectionate, Playful, Quiet, Faithful\",\"reference_image_id\":\"1lFmrzECl\"},{\"weight\":{\"imperial\":\"20 - 30\",\"metric\":\"9 - 14\"},\"height\":{\"imperial\":\"14 - 15\",\"metric\":\"36 - 38\"},\"id\":87,\"name\":\"Cocker Spaniel (American)\",\"bred_for\":\"Hunting the American woodcock\",\"breed_group\":\"Sporting\",\"life_span\":\"12 - 15 years\",\"temperament\":\"Outgoing, Sociable, Trusting, Joyful, Even Tempered, Merry\",\"reference_image_id\":\"HkRcZe547\"},{\"weight\":{\"imperial\":\"9 - 15\",\"metric\":\"4 - 7\"},\"height\":{\"imperial\":\"9 - 11\",\"metric\":\"23 - 28\"},\"id\":89,\"name\":\"Coton de Tulear\",\"bred_for\":\"Accompanying ladies on long sea voyages, ratters onboard ship.\",\"breed_group\":\"Non-Sporting\",\"life_span\":\"13 - 16 years\",\"temperament\":\"Affectionate, Lively, Playful, Intelligent, Trainable, Vocal\",\"reference_image_id\":\"SyviZlqNm\"},{\"weight\":{\"imperial\":\"50 - 55\",\"metric\":\"23 - 25\"},\"height\":{\"imperial\":\"19 - 23\",\"metric\":\"48 - 58\"},\"id\":92,\"name\":\"Dalmatian\",\"bred_for\":\"Carriage dog - trot alongside carriages to protect the occupants from banditry or other interference\",\"breed_group\":\"Non-Sporting\",\"life_span\":\"10 - 13 years\",\"temperament\":\"Outgoing, Friendly, Energetic, Playful, Sensitive, Intelligent, Active\",\"reference_image_id\":\"SkJ3blcN7\"},{\"weight\":{\"imperial\":\"66 - 88\",\"metric\":\"30 - 40\"},\"height\":{\"imperial\":\"24 - 28\",\"metric\":\"61 - 71\"},\"id\":94,\"name\":\"Doberman Pinscher\",\"bred_for\":\"Guardian\",\"breed_group\":\"Working\",\"life_span\":\"10 years\",\"temperament\":\"Fearless, Energetic, Alert, Loyal, Obedient, Confident, Intelligent\",\"reference_image_id\":\"HyL3bl94Q\"},{\"weight\":{\"imperial\":\"80 - 100\",\"metric\":\"36 - 45\"},\"height\":{\"imperial\":\"23.5 - 27\",\"metric\":\"60 - 69\"},\"id\":95,\"name\":\"Dogo Argentino\",\"bred_for\":\"Big-game hunting\",\"breed_group\":\"Working\",\"life_span\":\"10 - 12 years\",\"temperament\":\"Friendly, Affectionate, Cheerful, Loyal, Tolerant, Protective\",\"reference_image_id\":\"S1nhWx94Q\"},{\"weight\":{\"imperial\":\"50 - 70\",\"metric\":\"23 - 32\"},\"height\":{\"imperial\":\"22 - 24.5\",\"metric\":\"56 - 62\"},\"id\":98,\"name\":\"Dutch Shepherd\",\"bred_for\":\"Farms, watchdog, guard duty\",\"life_span\":\"15 years\",\"temperament\":\"Reliable, Affectionate, Alert, Loyal, Obedient, Trainable\",\"reference_image_id\":\"BkE6Wg5E7\"},{\"weight\":{\"imperial\":\"45 - 80\",\"metric\":\"20 - 36\"},\"height\":{\"imperial\":\"24 - 25\",\"metric\":\"61 - 64\"},\"id\":101,\"name\":\"English Setter\",\"bred_for\":\"Bird setting, retrieving\",\"breed_group\":\"Sporting\",\"life_span\":\"12 years\",\"temperament\":\"Strong Willed, Mischievous, Affectionate, Energetic, Playful, Companionable, Gentle, Hard-working, Intelligent, Eager, People-Oriented\",\"reference_image_id\":\"By4A-eqVX\"},{\"weight\":{\"imperial\":\"44 - 66\",\"metric\":\"20 - 30\"},\"height\":{\"imperial\":\"18 - 23\",\"metric\":\"46 - 58\"},\"id\":102,\"name\":\"English Shepherd\",\"bred_for\":\"Herding & guarding livestock, farm watch dog\",\"breed_group\":\"Working\",\"life_span\":\"10 - 13 years\",\"temperament\":\"Kind, Energetic, Independent, Adaptable, Intelligent, Bossy\",\"reference_image_id\":\"H1QyMe5EQ\"},{\"weight\":{\"imperial\":\"35 - 50\",\"metric\":\"16 - 23\"},\"height\":{\"imperial\":\"19 - 20\",\"metric\":\"48 - 51\"},\"id\":103,\"name\":\"English Springer Spaniel\",\"bred_for\":\"Bird flushing, retrieving\",\"breed_group\":\"Sporting\",\"life_span\":\"12 - 14 years\",\"temperament\":\"Affectionate, Cheerful, Alert, Intelligent, Attentive, Active\",\"reference_image_id\":\"Hk0Jfe5VQ\"},{\"weight\":{\"imperial\":\"8 - 14\",\"metric\":\"4 - 6\"},\"height\":{\"imperial\":\"10\",\"metric\":\"25\"},\"id\":104,\"name\":\"English Toy Spaniel\",\"bred_for\":\"Companion of kings\",\"breed_group\":\"Toy\",\"life_span\":\"10 - 12 years\",\"temperament\":\"Affectionate, Reserved, Playful, Gentle, Happy, Loving\",\"reference_image_id\":\"SkIgzxqNQ\"},{\"weight\":{\"imperial\":\"6 - 8\",\"metric\":\"3 - 4\"},\"height\":{\"imperial\":\"10 - 12\",\"metric\":\"25 - 30\"},\"id\":105,\"name\":\"English Toy Terrier\",\"bred_for\":\"Rat-baiting\",\"life_span\":\"12 - 13 years\",\"temperament\":\"Stubborn, Alert, Companionable, Intelligent, Cunning, Trainable\",\"reference_image_id\":\"SJ6eMxqEQ\"},{\"weight\":{\"imperial\":\"40 - 70\",\"metric\":\"18 - 32\"},\"height\":{\"imperial\":\"20.5 - 23.5\",\"metric\":\"52 - 60\"},\"id\":107,\"name\":\"Eurasier\",\"bred_for\":\"Companionship\",\"breed_group\":\"Non-Sporting\",\"life_span\":\"12 - 14 years\",\"temperament\":\"Alert, Reserved, Intelligent, Even Tempered, Watchful, Calm\",\"reference_image_id\":\"S1VWGx9Nm\"},{\"weight\":{\"imperial\":\"35 - 50\",\"metric\":\"16 - 23\"},\"height\":{\"imperial\":\"17 - 18\",\"metric\":\"43 - 46\"},\"id\":108,\"name\":\"Field Spaniel\",\"bred_for\":\"Bird flushing, retrieving\",\"breed_group\":\"Sporting\",\"life_span\":\"11 - 15 years\",\"temperament\":\"Docile, Cautious, Sociable, Sensitive, Adaptable, Familial\",\"reference_image_id\":\"SkJfGecE7\"},{\"weight\":{\"imperial\":\"33 - 53\",\"metric\":\"15 - 24\"},\"height\":{\"imperial\":\"16 - 21\",\"metric\":\"41 - 53\"},\"id\":110,\"name\":\"Finnish Lapphund\",\"bred_for\":\"Herding reindeer\",\"breed_group\":\"Herding\",\"life_span\":\"12 - 15 years\",\"temperament\":\"Friendly, Keen, Faithful, Calm, Courageous\",\"reference_image_id\":\"S1KMGg5Vm\"},{\"weight\":{\"imperial\":\"23 - 28\",\"metric\":\"10 - 13\"},\"height\":{\"imperial\":\"15.5 - 20\",\"metric\":\"39 - 51\"},\"id\":111,\"name\":\"Finnish Spitz\",\"bred_for\":\"Hunting birds, small mammals\",\"breed_group\":\"Non-Sporting\",\"life_span\":\"12 - 15 years\",\"temperament\":\"Playful, Loyal, Independent, Intelligent, Happy, Vocal\",\"reference_image_id\":\"3PjHlQbkV\"},{\"weight\":{\"imperial\":\"28\",\"metric\":\"13\"},\"height\":{\"imperial\":\"11 - 12\",\"metric\":\"28 - 30\"},\"id\":113,\"name\":\"French Bulldog\",\"bred_for\":\"Lapdog\",\"breed_group\":\"Non-Sporting\",\"life_span\":\"9 - 11 years\",\"temperament\":\"Playful, Affectionate, Keen, Sociable, Lively, Alert, Easygoing, Patient, Athletic, Bright\",\"reference_image_id\":\"HyWNfxc47\"},{\"weight\":{\"imperial\":\"25 - 45\",\"metric\":\"11 - 20\"},\"height\":{\"imperial\":\"17 - 20\",\"metric\":\"43 - 51\"},\"id\":114,\"name\":\"German Pinscher\",\"bred_for\":\"Watchdog, Hunting vermin on the farm.\",\"breed_group\":\"Working\",\"life_span\":\"12 - 14 years\",\"temperament\":\"Spirited, Lively, Intelligent, Loving, Even Tempered, Familial\",\"reference_image_id\":\"B1u4zgqE7\"},{\"weight\":{\"imperial\":\"50 - 90\",\"metric\":\"23 - 41\"},\"height\":{\"imperial\":\"22 - 26\",\"metric\":\"56 - 66\"},\"id\":115,\"name\":\"German Shepherd Dog\",\"bred_for\":\"Herding, Guard dog\",\"breed_group\":\"Herding\",\"life_span\":\"10 - 13 years\",\"temperament\":\"Alert, Loyal, Obedient, Curious, Confident, Intelligent, Watchful, Courageous\",\"reference_image_id\":\"SJyBfg5NX\"},{\"weight\":{\"imperial\":\"45 - 70\",\"metric\":\"20 - 32\"},\"height\":{\"imperial\":\"21 - 25\",\"metric\":\"53 - 64\"},\"id\":116,\"name\":\"German Shorthaired Pointer\",\"bred_for\":\"General hunting\",\"breed_group\":\"Sporting\",\"life_span\":\"12 - 14 years\",\"temperament\":\"Boisterous, Bold, Affectionate, Intelligent, Cooperative, Trainable\",\"reference_image_id\":\"SJqBMg5Nm\"},{\"weight\":{\"imperial\":\"65 - 90\",\"metric\":\"29 - 41\"},\"height\":{\"imperial\":\"23.5 - 27.5\",\"metric\":\"60 - 70\"},\"id\":119,\"name\":\"Giant Schnauzer\",\"bred_for\":\"Herding, guarding\",\"breed_group\":\"Working\",\"life_span\":\"10 - 12 years\",\"temperament\":\"Strong Willed, Kind, Loyal, Intelligent, Dominant, Powerful\",\"reference_image_id\":\"H1NIzlcV7\"},{\"weight\":{\"imperial\":\"32 - 40\",\"metric\":\"15 - 18\"},\"height\":{\"imperial\":\"12.5 - 14\",\"metric\":\"32 - 36\"},\"id\":120,\"name\":\"Glen of Imaal Terrier\",\"bred_for\":\"Rid the home and farm of vermin, and hunt badger and fox\",\"breed_group\":\"Terrier\",\"life_span\":\"12 - 15 years\",\"temperament\":\"Spirited, Agile, Loyal, Gentle, Active, Courageous\",\"reference_image_id\":\"H1oLMe94m\"},{\"weight\":{\"imperial\":\"55 - 75\",\"metric\":\"25 - 34\"},\"height\":{\"imperial\":\"21.5 - 24\",\"metric\":\"55 - 61\"},\"id\":121,\"name\":\"Golden Retriever\",\"bred_for\":\"Retrieving\",\"breed_group\":\"Sporting\",\"life_span\":\"10 - 12 years\",\"temperament\":\"Intelligent, Kind, Reliable, Friendly, Trustworthy, Confident\",\"reference_image_id\":\"HJ7Pzg5EQ\"},{\"weight\":{\"imperial\":\"45 - 80\",\"metric\":\"20 - 36\"},\"height\":{\"imperial\":\"23 - 27\",\"metric\":\"58 - 69\"},\"id\":123,\"name\":\"Gordon Setter\",\"bred_for\":\"Find and point gamebirds\",\"breed_group\":\"Sporting\",\"life_span\":\"10 - 12 years\",\"temperament\":\"Fearless, Alert, Loyal, Confident, Gay, Eager\",\"reference_image_id\":\"SJ5vzx5NX\"},{\"weight\":{\"imperial\":\"110 - 190\",\"metric\":\"50 - 86\"},\"height\":{\"imperial\":\"28 - 32\",\"metric\":\"71 - 81\"},\"id\":124,\"name\":\"Great Dane\",\"bred_for\":\"Hunting & holding boars, Guardian\",\"breed_group\":\"Working\",\"life_span\":\"7 - 10 years\",\"temperament\":\"Friendly, Devoted, Reserved, Gentle, Confident, Loving\",\"reference_image_id\":\"B1Edfl9NX\"},{\"weight\":{\"imperial\":\"85 - 115\",\"metric\":\"39 - 52\"},\"height\":{\"imperial\":\"25 - 32\",\"metric\":\"64 - 81\"},\"id\":125,\"name\":\"Great Pyrenees\",\"bred_for\":\"Sheep guardian\",\"breed_group\":\"Working\",\"life_span\":\"10 - 12 years\",\"temperament\":\"Strong Willed, Fearless, Affectionate, Patient, Gentle, Confident\",\"reference_image_id\":\"B12uzg9V7\"},{\"weight\":{\"imperial\":\"50 - 70\",\"metric\":\"23 - 32\"},\"height\":{\"imperial\":\"27 - 30\",\"metric\":\"69 - 76\"},\"id\":127,\"name\":\"Greyhound\",\"bred_for\":\"Coursing hares\",\"breed_group\":\"Hound\",\"life_span\":\"10 - 13 years\",\"temperament\":\"Affectionate, Athletic, Gentle, Intelligent, Quiet, Even Tempered\",\"reference_image_id\":\"ryNYMx94X\"},{\"weight\":{\"imperial\":\"12\",\"metric\":\"5\"},\"height\":{\"imperial\":\"9 - 11\",\"metric\":\"23 - 28\"},\"id\":128,\"name\":\"Griffon Bruxellois\",\"bred_for\":\"Hunt and kill vermin in stables\",\"life_span\":\"10 – 15 years\",\"temperament\":\"Self-important, Inquisitive, Alert, Companionable, Sensitive, Watchful\",\"reference_image_id\":\"ryoYGec4Q\"},{\"weight\":{\"imperial\":\"40 - 60\",\"metric\":\"18 - 27\"},\"height\":{\"imperial\":\"18 - 22\",\"metric\":\"46 - 56\"},\"id\":129,\"name\":\"Harrier\",\"bred_for\":\"Hunting hares by trailing them\",\"breed_group\":\"Hound\",\"life_span\":\"12 - 15 years\",\"temperament\":\"Outgoing, Friendly, Cheerful, Sweet-Tempered, Tolerant, Active\",\"reference_image_id\":\"B1IcfgqE7\"},{\"weight\":{\"imperial\":\"7 - 13\",\"metric\":\"3 - 6\"},\"height\":{\"imperial\":\"8.5 - 11.5\",\"metric\":\"22 - 29\"},\"id\":130,\"name\":\"Havanese\",\"bred_for\":\"Companionship\",\"breed_group\":\"Toy\",\"life_span\":\"14 - 15 years\",\"temperament\":\"Affectionate, Responsive, Playful, Companionable, Gentle, Intelligent\",\"reference_image_id\":\"rkXiGl9V7\"},{\"weight\":{\"imperial\":\"35 - 70\",\"metric\":\"16 - 32\"},\"height\":{\"imperial\":\"24 - 27\",\"metric\":\"61 - 69\"},\"id\":134,\"name\":\"Irish Setter\",\"bred_for\":\"Bird setting, retrieving\",\"breed_group\":\"Sporting\",\"life_span\":\"10 - 11 years\",\"temperament\":\"Affectionate, Energetic, Lively, Independent, Playful, Companionable\",\"reference_image_id\":\"S1osGeqVm\"},{\"weight\":{\"imperial\":\"25 - 27\",\"metric\":\"11 - 12\"},\"height\":{\"imperial\":\"18\",\"metric\":\"46\"},\"id\":135,\"name\":\"Irish Terrier\",\"breed_group\":\"Terrier\",\"life_span\":\"12 - 16 years\",\"temperament\":\"Respectful, Lively, Intelligent, Dominant, Protective, Trainable\",\"reference_image_id\":\"By-hGecVX\"},{\"weight\":{\"imperial\":\"105 - 180\",\"metric\":\"48 - 82\"},\"height\":{\"imperial\":\"30 - 35\",\"metric\":\"76 - 89\"},\"id\":137,\"name\":\"Irish Wolfhound\",\"bred_for\":\"Coursing wolves, elk\",\"breed_group\":\"Hound\",\"life_span\":\"6 - 8 years\",\"temperament\":\"Sweet-Tempered, Loyal, Dignified, Patient, Thoughtful, Generous\",\"reference_image_id\":\"Hyd2zgcEX\"},{\"weight\":{\"imperial\":\"7 - 15\",\"metric\":\"3 - 7\"},\"height\":{\"imperial\":\"13 - 15\",\"metric\":\"33 - 38\"},\"id\":138,\"name\":\"Italian Greyhound\",\"bred_for\":\"Lapdog\",\"breed_group\":\"Toy\",\"life_span\":\"12 - 15 years\",\"temperament\":\"Mischievous, Affectionate, Agile, Athletic, Companionable, Intelligent\",\"reference_image_id\":\"SJAnzg9NX\"},{\"weight\":{\"imperial\":\"4 - 9\",\"metric\":\"2 - 4\"},\"height\":{\"imperial\":\"8 - 11\",\"metric\":\"20 - 28\"},\"id\":140,\"name\":\"Japanese Chin\",\"bred_for\":\"Lapdog\",\"breed_group\":\"Toy\",\"life_span\":\"12 - 14 years\",\"temperament\":\"Alert, Loyal, Independent, Intelligent, Loving, Cat-like\",\"reference_image_id\":\"r1H6feqEm\"},{\"weight\":{\"imperial\":\"15 - 19\",\"metric\":\"7 - 9\"},\"height\":{\"imperial\":\"12 - 15\",\"metric\":\"30 - 38\"},\"id\":141,\"name\":\"Japanese Spitz\",\"bred_for\":\"Companion\",\"life_span\":\"10 – 16 years\",\"temperament\":\"Affectionate, Obedient, Playful, Companionable, Intelligent, Proud\",\"reference_image_id\":\"HksaMxqNX\"},{\"weight\":{\"imperial\":\"35 - 45\",\"metric\":\"16 - 20\"},\"height\":{\"imperial\":\"17 - 18\",\"metric\":\"43 - 46\"},\"id\":142,\"name\":\"Keeshond\",\"bred_for\":\"Barge watchdog\",\"breed_group\":\"Non-Sporting\",\"life_span\":\"12 - 15 years\",\"temperament\":\"Agile, Obedient, Playful, Quick, Sturdy, Bright\",\"reference_image_id\":\"S1GAGg9Vm\"},{\"weight\":{\"imperial\":\"80 - 100\",\"metric\":\"36 - 45\"},\"height\":{\"imperial\":\"25.5 - 27.5\",\"metric\":\"65 - 70\"},\"id\":144,\"name\":\"Komondor\",\"bred_for\":\"Sheep guardian\",\"breed_group\":\"Working\",\"life_span\":\"10 - 12 years\",\"temperament\":\"Steady, Fearless, Affectionate, Independent, Gentle, Calm\",\"reference_image_id\":\"Bko0fl547\"},{\"weight\":{\"imperial\":\"20 - 30\",\"metric\":\"9 - 14\"},\"height\":{\"imperial\":\"14 - 16\",\"metric\":\"36 - 41\"},\"id\":145,\"name\":\"Kooikerhondje\",\"bred_for\":\"Luring ducks into traps - \\\\\"tolling\\\\\"\",\"breed_group\":\"Sporting\",\"life_span\":\"12 - 15 years\",\"temperament\":\"Benevolent, Agile, Alert, Intelligent, Active, Territorial\",\"reference_image_id\":\"kOMy84GQE\"},{\"weight\":{\"imperial\":\"70 - 115\",\"metric\":\"32 - 52\"},\"height\":{\"imperial\":\"26 - 30\",\"metric\":\"66 - 76\"},\"id\":147,\"name\":\"Kuvasz\",\"bred_for\":\"Guardian, hunting large game\",\"breed_group\":\"Working\",\"life_span\":\"8 - 10 years\",\"temperament\":\"Clownish, Loyal, Patient, Independent, Intelligent, Protective\",\"reference_image_id\":\"BykZ7ecVX\"},{\"weight\":{\"imperial\":\"55 - 80\",\"metric\":\"25 - 36\"},\"height\":{\"imperial\":\"21.5 - 24.5\",\"metric\":\"55 - 62\"},\"id\":149,\"name\":\"Labrador Retriever\",\"bred_for\":\"Water retrieving\",\"breed_group\":\"Sporting\",\"life_span\":\"10 - 13 years\",\"temperament\":\"Kind, Outgoing, Agile, Gentle, Intelligent, Trusting, Even Tempered\",\"reference_image_id\":\"B1uW7l5VX\"},{\"weight\":{\"imperial\":\"24 - 35\",\"metric\":\"11 - 16\"},\"height\":{\"imperial\":\"16 - 19\",\"metric\":\"41 - 48\"},\"id\":151,\"name\":\"Lagotto Romagnolo\",\"bred_for\":\"Water retrieval dog in the marshes of Romagna\",\"breed_group\":\"Sporting\",\"life_span\":\"14 - 16 years\",\"temperament\":\"Keen, Loyal, Companionable, Loving, Active, Trainable\",\"reference_image_id\":\"ryzzmgqE7\"},{\"weight\":{\"imperial\":\"6 - 13\",\"metric\":\"3 - 6\"},\"height\":{\"imperial\":\"10 - 12\",\"metric\":\"25 - 30\"},\"id\":153,\"name\":\"Lancashire Heeler\",\"bred_for\":\"Cattle herding, Ratting, Driving cattle to market.\",\"life_span\":\"12 – 15 years\",\"temperament\":\"Clever, Friendly, Alert, Intelligent\",\"reference_image_id\":\"S1RGml5Em\"},{\"weight\":{\"imperial\":\"120 - 170\",\"metric\":\"54 - 77\"},\"height\":{\"imperial\":\"25.5 - 31.5\",\"metric\":\"65 - 80\"},\"id\":155,\"name\":\"Leonberger\",\"bred_for\":\"Guardian, appearance.\",\"breed_group\":\"Working\",\"life_span\":\"6 - 8 years\",\"temperament\":\"Obedient, Fearless, Loyal, Companionable, Adaptable, Loving\",\"reference_image_id\":\"ByrmQlqVm\"},{\"weight\":{\"imperial\":\"12 - 18\",\"metric\":\"5 - 8\"},\"height\":{\"imperial\":\"10 - 11\",\"metric\":\"25 - 28\"},\"id\":156,\"name\":\"Lhasa Apso\",\"bred_for\":\"Guarding inside the home, companion\",\"breed_group\":\"Non-Sporting\",\"life_span\":\"12 - 15 years\",\"temperament\":\"Steady, Fearless, Friendly, Devoted, Assertive, Spirited, Energetic, Lively, Alert, Obedient, Playful, Intelligent\",\"reference_image_id\":\"SJp7Qe5EX\"},{\"weight\":{\"imperial\":\"4 - 7\",\"metric\":\"2 - 3\"},\"height\":{\"imperial\":\"8 - 10\",\"metric\":\"20 - 25\"},\"id\":161,\"name\":\"Maltese\",\"bred_for\":\"Lapdog\",\"breed_group\":\"Toy\",\"life_span\":\"15 - 18 years\",\"temperament\":\"Playful, Docile, Fearless, Affectionate, Sweet-Tempered, Lively, Responsive, Easygoing, Gentle, Intelligent, Active\",\"reference_image_id\":\"B1SV7gqN7\"},{\"weight\":{\"imperial\":\"20 - 40\",\"metric\":\"9 - 18\"},\"height\":{\"imperial\":\"13 - 18\",\"metric\":\"33 - 46\"},\"id\":165,\"name\":\"Miniature American Shepherd\",\"breed_group\":\"Herding\",\"life_span\":\"12 - 15 years\",\"temperament\":\"Energetic, Loyal, Intelligent, Trainable\",\"reference_image_id\":\"BkHHQgcN7\"},{\"weight\":{\"imperial\":\"8 - 11\",\"metric\":\"4 - 5\"},\"height\":{\"imperial\":\"10 - 12.5\",\"metric\":\"25 - 32\"},\"id\":167,\"name\":\"Miniature Pinscher\",\"bred_for\":\"Small vermin hunting\",\"breed_group\":\"Toy\",\"life_span\":\"15 years\",\"temperament\":\"Clever, Outgoing, Friendly, Energetic, Responsive, Playful\",\"reference_image_id\":\"Hy3H7g94X\"},{\"weight\":{\"imperial\":\"11 - 20\",\"metric\":\"5 - 9\"},\"height\":{\"imperial\":\"12 - 14\",\"metric\":\"30 - 36\"},\"id\":168,\"name\":\"Miniature Schnauzer\",\"bred_for\":\"Ratting\",\"breed_group\":\"Terrier\",\"life_span\":\"12 - 14 years\",\"temperament\":\"Fearless, Friendly, Spirited, Alert, Obedient, Intelligent\",\"reference_image_id\":\"SJIUQl9NX\"},{\"weight\":{\"imperial\":\"100 - 150\",\"metric\":\"45 - 68\"},\"height\":{\"imperial\":\"26 - 28\",\"metric\":\"66 - 71\"},\"id\":171,\"name\":\"Newfoundland\",\"bred_for\":\"All purpose water dog, fishing aid\",\"breed_group\":\"Working\",\"life_span\":\"8 - 10 years\",\"temperament\":\"Sweet-Tempered, Gentle, Trainable\",\"reference_image_id\":\"Sk4DXl54m\"},{\"weight\":{\"imperial\":\"11 - 12\",\"metric\":\"5 - 5\"},\"height\":{\"imperial\":\"9 - 10\",\"metric\":\"23 - 25\"},\"id\":172,\"name\":\"Norfolk Terrier\",\"bred_for\":\"Ratting, fox bolting\",\"breed_group\":\"Terrier\",\"life_span\":\"12 - 15 years\",\"temperament\":\"Self-confidence, Fearless, Spirited, Companionable, Happy, Lovable\",\"reference_image_id\":\"B1ADQg94X\"},{\"weight\":{\"imperial\":\"11 - 12\",\"metric\":\"5 - 5\"},\"height\":{\"imperial\":\"10\",\"metric\":\"25\"},\"id\":176,\"name\":\"Norwich Terrier\",\"bred_for\":\"Ratting, fox bolting\",\"breed_group\":\"Terrier\",\"life_span\":\"12 - 15 years\",\"temperament\":\"Hardy, Affectionate, Energetic, Sensitive, Intelligent\",\"reference_image_id\":\"BkgKXlqE7\"},{\"weight\":{\"imperial\":\"35 - 50\",\"metric\":\"16 - 23\"},\"height\":{\"imperial\":\"17 - 21\",\"metric\":\"43 - 53\"},\"id\":177,\"name\":\"Nova Scotia Duck Tolling Retriever\",\"breed_group\":\"Sporting\",\"life_span\":\"12 - 14 years\",\"temperament\":\"Outgoing, Alert, Patient, Intelligent, Loving\",\"reference_image_id\":\"SyYtQe5V7\"},{\"weight\":{\"imperial\":\"60 - 100\",\"metric\":\"27 - 45\"},\"height\":{\"imperial\":\"21\",\"metric\":\"53\"},\"id\":178,\"name\":\"Old English Sheepdog\",\"bred_for\":\"Driving sheep, cattle\",\"breed_group\":\"Herding\",\"life_span\":\"10 - 12 years\",\"temperament\":\"Sociable, Bubbly, Playful, Adaptable, Intelligent, Loving\",\"reference_image_id\":\"HkZ57lq4m\"},{\"weight\":{\"imperial\":\"65 – 85\",\"metric\":\"NaN\"},\"height\":{\"imperial\":\"15 - 19\",\"metric\":\"38 - 48\"},\"id\":179,\"name\":\"Olde English Bulldogge\",\"life_span\":\"9 – 14 years\",\"temperament\":\"Friendly, Alert, Confident, Loving, Courageous, Strong\",\"reference_image_id\":\"B1d5me547\"},{\"weight\":{\"imperial\":\"3 - 12\",\"metric\":\"1 - 5\"},\"height\":{\"imperial\":\"8 - 11\",\"metric\":\"20 - 28\"},\"id\":181,\"name\":\"Papillon\",\"bred_for\":\"Lapdog\",\"breed_group\":\"Toy\",\"life_span\":\"13 - 17 years\",\"temperament\":\"Hardy, Friendly, Energetic, Alert, Intelligent, Happy\",\"reference_image_id\":\"SkJj7e547\"},{\"weight\":{\"imperial\":\"14\",\"metric\":\"6\"},\"height\":{\"imperial\":\"6 - 9\",\"metric\":\"15 - 23\"},\"id\":183,\"name\":\"Pekingese\",\"bred_for\":\"Lapdog\",\"breed_group\":\"Toy\",\"life_span\":\"14 - 18 years\",\"temperament\":\"Opinionated, Good-natured, Stubborn, Affectionate, Aggressive, Intelligent\",\"reference_image_id\":\"ByIiml9Nm\"},{\"weight\":{\"imperial\":\"25 - 30\",\"metric\":\"11 - 14\"},\"height\":{\"imperial\":\"10 - 12\",\"metric\":\"25 - 30\"},\"id\":184,\"name\":\"Pembroke Welsh Corgi\",\"bred_for\":\"Driving stock to market in northern Wales\",\"breed_group\":\"Herding\",\"life_span\":\"12 - 14 years\",\"temperament\":\"Tenacious, Outgoing, Friendly, Bold, Playful, Protective\",\"reference_image_id\":\"rJ6iQeqEm\"},{\"weight\":{\"imperial\":\"88 - 110\",\"metric\":\"40 - 50\"},\"height\":{\"imperial\":\"22 - 25.5\",\"metric\":\"56 - 65\"},\"id\":185,\"name\":\"Perro de Presa Canario\",\"breed_group\":\"Working\",\"life_span\":\"10 - 12 years\",\"temperament\":\"Strong Willed, Suspicious, Gentle, Dominant, Calm\",\"reference_image_id\":\"S1V3Qeq4X\"},{\"weight\":{\"imperial\":\"40 - 60\",\"metric\":\"18 - 27\"},\"height\":{\"imperial\":\"21 - 25\",\"metric\":\"53 - 64\"},\"id\":188,\"name\":\"Pharaoh Hound\",\"bred_for\":\"Hunting rabbits\",\"breed_group\":\"Hound\",\"life_span\":\"12 - 14 years\",\"temperament\":\"Affectionate, Sociable, Playful, Intelligent, Active, Trainable\",\"reference_image_id\":\"Byz6mgqEQ\"},{\"weight\":{\"imperial\":\"40 - 60\",\"metric\":\"18 - 27\"},\"height\":{\"imperial\":\"20 - 25\",\"metric\":\"51 - 64\"},\"id\":189,\"name\":\"Plott\",\"bred_for\":\"Hunting big-game like Boar.\",\"breed_group\":\"Hound\",\"life_span\":\"12 - 14 years\",\"temperament\":\"Bold, Alert, Loyal, Intelligent\",\"reference_image_id\":\"B1i67l5VQ\"},{\"weight\":{\"imperial\":\"3 - 7\",\"metric\":\"1 - 3\"},\"height\":{\"imperial\":\"8 - 12\",\"metric\":\"20 - 30\"},\"id\":193,\"name\":\"Pomeranian\",\"bred_for\":\"Companion\",\"breed_group\":\"Toy\",\"life_span\":\"15 years\",\"temperament\":\"Extroverted, Friendly, Sociable, Playful, Intelligent, Active\",\"reference_image_id\":\"HJd0XecNX\"},{\"weight\":{\"imperial\":\"15 - 17\",\"metric\":\"7 - 8\"},\"height\":{\"imperial\":\"11 - 15\",\"metric\":\"28 - 38\"},\"id\":196,\"name\":\"Poodle (Miniature)\",\"life_span\":\"12 – 15 years\",\"reference_image_id\":\"Hkxk4ecVX\"},{\"weight\":{\"imperial\":\"6 - 9\",\"metric\":\"3 - 4\"},\"height\":{\"imperial\":\"9 - 11\",\"metric\":\"23 - 28\"},\"id\":197,\"name\":\"Poodle (Toy)\",\"life_span\":\"18 years\",\"reference_image_id\":\"rJFJVxc4m\"},{\"weight\":{\"imperial\":\"14 - 18\",\"metric\":\"6 - 8\"},\"height\":{\"imperial\":\"10 - 12\",\"metric\":\"25 - 30\"},\"id\":201,\"name\":\"Pug\",\"bred_for\":\"Lapdog\",\"breed_group\":\"Toy\",\"life_span\":\"12 - 14 years\",\"temperament\":\"Docile, Clever, Charming, Stubborn, Sociable, Playful, Quiet, Attentive\",\"reference_image_id\":\"HyJvcl9N7\"},{\"weight\":{\"imperial\":\"25 - 35\",\"metric\":\"11 - 16\"},\"height\":{\"imperial\":\"16 - 17\",\"metric\":\"41 - 43\"},\"id\":204,\"name\":\"Puli\",\"bred_for\":\"Herding\",\"breed_group\":\"Herding\",\"life_span\":\"12 - 16 Years years\",\"temperament\":\"Energetic, Agile, Loyal, Obedient, Intelligent, Faithful\",\"reference_image_id\":\"ryPgVl5N7\"},{\"weight\":{\"imperial\":\"18 - 33\",\"metric\":\"8 - 15\"},\"height\":{\"imperial\":\"15 - 18.5\",\"metric\":\"38 - 47\"},\"id\":205,\"name\":\"Pumi\",\"breed_group\":\"Herding\",\"life_span\":\"13 - 15 years\",\"temperament\":\"Lively, Reserved, Intelligent, Active, Protective, Vocal\",\"reference_image_id\":\"SyRe4xcN7\"},{\"weight\":{\"imperial\":\"8 - 25\",\"metric\":\"4 - 11\"},\"height\":{\"imperial\":\"10 - 13\",\"metric\":\"25 - 33\"},\"id\":207,\"name\":\"Rat Terrier\",\"breed_group\":\"Terrier\",\"life_span\":\"12 - 18 years\",\"temperament\":\"Affectionate, Lively, Inquisitive, Alert, Intelligent, Loving\",\"reference_image_id\":\"HkXWNl9E7\"},{\"weight\":{\"imperial\":\"45 - 80\",\"metric\":\"20 - 36\"},\"height\":{\"imperial\":\"21 - 27\",\"metric\":\"53 - 69\"},\"id\":208,\"name\":\"Redbone Coonhound\",\"bred_for\":\"Hunting raccoon, deer, bear, and cougar.\",\"breed_group\":\"Hound\",\"life_span\":\"10 - 12 years\",\"temperament\":\"Affectionate, Energetic, Independent, Companionable, Familial, Unflappable\",\"reference_image_id\":\"HJMzEl5N7\"},{\"weight\":{\"imperial\":\"75 - 80\",\"metric\":\"34 - 36\"},\"height\":{\"imperial\":\"24 - 27\",\"metric\":\"61 - 69\"},\"id\":209,\"name\":\"Rhodesian Ridgeback\",\"bred_for\":\"Big game hunting, guarding\",\"breed_group\":\"Hound\",\"life_span\":\"10 - 12 years\",\"temperament\":\"Strong Willed, Mischievous, Loyal, Dignified, Sensitive, Intelligent\",\"reference_image_id\":\"By9zNgqE7\"},{\"weight\":{\"imperial\":\"75 - 110\",\"metric\":\"34 - 50\"},\"height\":{\"imperial\":\"22 - 27\",\"metric\":\"56 - 69\"},\"id\":210,\"name\":\"Rottweiler\",\"bred_for\":\"Cattle drover, guardian, draft\",\"breed_group\":\"Working\",\"life_span\":\"8 - 10 years\",\"temperament\":\"Steady, Good-natured, Fearless, Devoted, Alert, Obedient, Confident, Self-assured, Calm, Courageous\",\"reference_image_id\":\"r1xXEgcNX\"},{\"weight\":{\"imperial\":\"3 - 6\",\"metric\":\"1 - 3\"},\"height\":{\"imperial\":\"7.5 - 10.5\",\"metric\":\"19 - 27\"},\"id\":211,\"name\":\"Russian Toy\",\"breed_group\":\"Toy\",\"life_span\":\"10 - 12 years\",\"reference_image_id\":\"HkP7Vxc4Q\"},{\"weight\":{\"imperial\":\"130 - 180\",\"metric\":\"59 - 82\"},\"height\":{\"imperial\":\"25.5 - 27.5\",\"metric\":\"65 - 70\"},\"id\":212,\"name\":\"Saint Bernard\",\"bred_for\":\"Draft, search, rescue\",\"breed_group\":\"Working\",\"life_span\":\"7 - 10 years\",\"temperament\":\"Friendly, Lively, Gentle, Watchful, Calm\",\"reference_image_id\":\"_Qf9nfRzL\"},{\"weight\":{\"imperial\":\"35 - 65\",\"metric\":\"16 - 29\"},\"height\":{\"imperial\":\"23 - 28\",\"metric\":\"58 - 71\"},\"id\":213,\"name\":\"Saluki\",\"bred_for\":\"Coursing gazelle and hare\",\"breed_group\":\"Hound\",\"life_span\":\"12 - 14 years\",\"temperament\":\"Aloof, Reserved, Intelligent, Quiet\",\"reference_image_id\":\"fjFIuehNo\"},{\"weight\":{\"imperial\":\"50 - 60\",\"metric\":\"23 - 27\"},\"height\":{\"imperial\":\"19 - 23.5\",\"metric\":\"48 - 60\"},\"id\":214,\"name\":\"Samoyed\",\"bred_for\":\"Herding reindeer, guardian, draft\",\"breed_group\":\"Working\",\"life_span\":\"12 - 14 years\",\"temperament\":\"Stubborn, Friendly, Sociable, Lively, Alert, Playful\",\"reference_image_id\":\"S1T8Ee9Nm\"},{\"weight\":{\"imperial\":\"10 - 16\",\"metric\":\"5 - 7\"},\"height\":{\"imperial\":\"10 - 13\",\"metric\":\"25 - 33\"},\"id\":216,\"name\":\"Schipperke\",\"bred_for\":\"Barge watchdog\",\"breed_group\":\"Non-Sporting\",\"life_span\":\"13 - 15 years\",\"temperament\":\"Fearless, Agile, Curious, Independent, Confident, Faithful\",\"reference_image_id\":\"SyBvVgc47\"},{\"weight\":{\"imperial\":\"70 - 130\",\"metric\":\"32 - 59\"},\"height\":{\"imperial\":\"28 - 32\",\"metric\":\"71 - 81\"},\"id\":218,\"name\":\"Scottish Deerhound\",\"bred_for\":\"Coursing deer\",\"breed_group\":\"Hound\",\"life_span\":\"8 - 10 years\",\"temperament\":\"Docile, Friendly, Dignified, Gentle\",\"reference_image_id\":\"SkNjqx9NQ\"},{\"weight\":{\"imperial\":\"18 - 22\",\"metric\":\"8 - 10\"},\"height\":{\"imperial\":\"10\",\"metric\":\"25\"},\"id\":219,\"name\":\"Scottish Terrier\",\"bred_for\":\"Vermin hunting\",\"breed_group\":\"Terrier\",\"life_span\":\"11 - 13 years\",\"temperament\":\"Feisty, Alert, Independent, Playful, Quick, Self-assured\",\"reference_image_id\":\"Bklnce5NX\"},{\"weight\":{\"imperial\":\"30\",\"metric\":\"14\"},\"height\":{\"imperial\":\"13 - 16\",\"metric\":\"33 - 41\"},\"id\":221,\"name\":\"Shetland Sheepdog\",\"bred_for\":\"Sheep herding\",\"breed_group\":\"Herding\",\"life_span\":\"12 - 14 years\",\"temperament\":\"Affectionate, Lively, Responsive, Alert, Loyal, Reserved, Playful, Gentle, Intelligent, Active, Trainable, Strong\",\"reference_image_id\":\"rJa29l9E7\"},{\"weight\":{\"imperial\":\"17 - 23\",\"metric\":\"8 - 10\"},\"height\":{\"imperial\":\"13.5 - 16.5\",\"metric\":\"34 - 42\"},\"id\":222,\"name\":\"Shiba Inu\",\"bred_for\":\"Hunting in the mountains of Japan, Alert Watchdog\",\"breed_group\":\"Non-Sporting\",\"life_span\":\"12 - 16 years\",\"temperament\":\"Charming, Fearless, Keen, Alert, Confident, Faithful\",\"reference_image_id\":\"Zn3IjPX3f\"},{\"weight\":{\"imperial\":\"9 - 16\",\"metric\":\"4 - 7\"},\"height\":{\"imperial\":\"8 - 11\",\"metric\":\"20 - 28\"},\"id\":223,\"name\":\"Shih Tzu\",\"bred_for\":\"Lapdog\",\"breed_group\":\"Toy\",\"life_span\":\"10 - 18 years\",\"temperament\":\"Clever, Spunky, Outgoing, Friendly, Affectionate, Lively, Alert, Loyal, Independent, Playful, Gentle, Intelligent, Happy, Active, Courageous\",\"reference_image_id\":\"BkrJjgcV7\"},{\"weight\":{\"imperial\":\"120 - 140\",\"metric\":\"54 - 64\"},\"height\":{\"imperial\":\"26 - 30\",\"metric\":\"66 - 76\"},\"id\":225,\"name\":\"Shiloh Shepherd\",\"bred_for\":\"Swimming, Carrying backpacks, Pulling carts or sleds\",\"life_span\":\"9 – 14 years\",\"temperament\":\"Outgoing, Loyal, Companionable, Gentle, Loving, Trainable\",\"reference_image_id\":\"SJJxjecEX\"},{\"weight\":{\"imperial\":\"35 - 60\",\"metric\":\"16 - 27\"},\"height\":{\"imperial\":\"20 - 23.5\",\"metric\":\"51 - 60\"},\"id\":226,\"name\":\"Siberian Husky\",\"bred_for\":\"Sled pulling\",\"breed_group\":\"Working\",\"life_span\":\"12 years\",\"temperament\":\"Outgoing, Friendly, Alert, Gentle, Intelligent\",\"reference_image_id\":\"S17ZilqNm\"},{\"weight\":{\"imperial\":\"8 - 10\",\"metric\":\"4 - 5\"},\"height\":{\"imperial\":\"9 - 10\",\"metric\":\"23 - 25\"},\"id\":228,\"name\":\"Silky Terrier\",\"bred_for\":\"Small vermin hunting, companionship\",\"breed_group\":\"Toy\",\"life_span\":\"12 - 15 years\",\"temperament\":\"Friendly, Responsive, Inquisitive, Alert, Quick, Joyful\",\"reference_image_id\":\"ByzGsl5Nm\"},{\"weight\":{\"imperial\":\"up - 18\",\"metric\":\"NaN - 8\"},\"height\":{\"imperial\":\"15.5\",\"metric\":\"39\"},\"id\":232,\"name\":\"Smooth Fox Terrier\",\"bred_for\":\"Fox bolting\",\"breed_group\":\"Terrier\",\"life_span\":\"12 - 14 years\",\"temperament\":\"Fearless, Affectionate, Alert, Playful, Intelligent, Active\",\"reference_image_id\":\"Syszjx9Em\"},{\"weight\":{\"imperial\":\"30 - 40\",\"metric\":\"14 - 18\"},\"height\":{\"imperial\":\"16 - 18\",\"metric\":\"41 - 46\"},\"id\":233,\"name\":\"Soft Coated Wheaten Terrier\",\"bred_for\":\"Vermin hunting, guarding, all-around farm helper\",\"breed_group\":\"Terrier\",\"life_span\":\"12 - 15 years\",\"temperament\":\"Affectionate, Spirited, Energetic, Playful, Intelligent, Faithful\",\"reference_image_id\":\"HJHmix5NQ\"},{\"weight\":{\"imperial\":\"30 - 50\",\"metric\":\"14 - 23\"},\"height\":{\"imperial\":\"16 - 20\",\"metric\":\"41 - 51\"},\"id\":235,\"name\":\"Spanish Water Dog\",\"bred_for\":\"Herding flocks of sheep and goats from one pasture to another\",\"breed_group\":\"Sporting\",\"life_span\":\"12 - 15 years\",\"temperament\":\"Trainable, Diligent, Affectionate, Loyal, Athletic, Intelligent\",\"reference_image_id\":\"HJf4jl9VX\"},{\"weight\":{\"imperial\":\"61 - 85\",\"metric\":\"28 - 39\"},\"height\":{\"imperial\":\"22.5 - 27.5\",\"metric\":\"57 - 70\"},\"id\":236,\"name\":\"Spinone Italiano\",\"breed_group\":\"Sporting\",\"life_span\":\"10 - 12 years\",\"temperament\":\"Docile, Friendly, Affectionate, Loyal, Patient, Gentle\",\"reference_image_id\":\"rk5Eoe5Nm\"},{\"weight\":{\"imperial\":\"24 - 38\",\"metric\":\"11 - 17\"},\"height\":{\"imperial\":\"14 - 16\",\"metric\":\"36 - 41\"},\"id\":238,\"name\":\"Staffordshire Bull Terrier\",\"bred_for\":\"\",\"breed_group\":\"Terrier\",\"life_span\":\"12 - 14 years\",\"temperament\":\"Reliable, Fearless, Bold, Affectionate, Loyal, Intelligent, Courageous\",\"reference_image_id\":\"H1zSie9V7\"},{\"weight\":{\"imperial\":\"30 - 50\",\"metric\":\"14 - 23\"},\"height\":{\"imperial\":\"17.5 - 19.5\",\"metric\":\"44 - 50\"},\"id\":239,\"name\":\"Standard Schnauzer\",\"bred_for\":\"Ratting, guarding\",\"breed_group\":\"Working\",\"life_span\":\"13 - 15 years\",\"temperament\":\"Trainable, Good-natured, Devoted, Lively, Playful, Intelligent\",\"reference_image_id\":\"tmzeu6ID_\"},{\"weight\":{\"imperial\":\"20 - 30\",\"metric\":\"9 - 14\"},\"height\":{\"imperial\":\"11.5 - 13.5\",\"metric\":\"29 - 34\"},\"id\":242,\"name\":\"Swedish Vallhund\",\"breed_group\":\"Herding\",\"life_span\":\"12 - 14 years\",\"temperament\":\"Fearless, Friendly, Energetic, Alert, Intelligent, Watchful\",\"reference_image_id\":\"HJ-Dix94Q\"},{\"weight\":{\"imperial\":\"35 - 55\",\"metric\":\"16 - 25\"},\"height\":{\"imperial\":\"20 - 24\",\"metric\":\"51 - 61\"},\"id\":243,\"name\":\"Thai Ridgeback\",\"breed_group\":\"Hound\",\"life_span\":\"10 - 12 years\",\"temperament\":\"Protective, Loyal, Independent, Intelligent, Loving, Familial\",\"reference_image_id\":\"zv89hR-O8\"},{\"weight\":{\"imperial\":\"85 - 140\",\"metric\":\"39 - 64\"},\"height\":{\"imperial\":\"24 - 26\",\"metric\":\"61 - 66\"},\"id\":244,\"name\":\"Tibetan Mastiff\",\"breed_group\":\"Working\",\"life_span\":\"10 - 14 years\",\"temperament\":\"Strong Willed, Tenacious, Aloof, Stubborn, Intelligent, Protective\",\"reference_image_id\":\"SkM9sec47\"},{\"weight\":{\"imperial\":\"9 - 15\",\"metric\":\"4 - 7\"},\"height\":{\"imperial\":\"10\",\"metric\":\"25\"},\"id\":245,\"name\":\"Tibetan Spaniel\",\"breed_group\":\"Non-Sporting\",\"life_span\":\"12 - 15 years\",\"temperament\":\"Willful, Aloof, Assertive, Independent, Playful, Intelligent, Happy\",\"reference_image_id\":\"Hyjcol947\"},{\"weight\":{\"imperial\":\"20 - 24\",\"metric\":\"9 - 11\"},\"height\":{\"imperial\":\"14 - 17\",\"metric\":\"36 - 43\"},\"id\":246,\"name\":\"Tibetan Terrier\",\"bred_for\":\"Good luck charms, mascots, watchdogs, herding dogs, and companions\",\"breed_group\":\"Non-Sporting\",\"life_span\":\"12 - 15 years\",\"temperament\":\"Affectionate, Energetic, Amiable, Reserved, Gentle, Sensitive\",\"reference_image_id\":\"6f5n_42mB\"},{\"weight\":{\"imperial\":\"4 - 9\",\"metric\":\"2 - 4\"},\"height\":{\"imperial\":\"8 - 11\",\"metric\":\"20 - 28\"},\"id\":248,\"name\":\"Toy Fox Terrier\",\"breed_group\":\"Toy\",\"life_span\":\"12 - 15 years\",\"temperament\":\"Friendly, Spirited, Alert, Loyal, Playful, Intelligent\",\"reference_image_id\":\"B17ase9V7\"},{\"weight\":{\"imperial\":\"45 - 80\",\"metric\":\"20 - 36\"},\"height\":{\"imperial\":\"20 - 27\",\"metric\":\"51 - 69\"},\"id\":250,\"name\":\"Treeing Walker Coonhound\",\"breed_group\":\"Hound\",\"life_span\":\"10 - 13 years\",\"temperament\":\"Clever, Affectionate, Confident, Intelligent, Loving, Trainable\",\"reference_image_id\":\"SkRpsgc47\"},{\"weight\":{\"imperial\":\"50 - 65\",\"metric\":\"23 - 29\"},\"height\":{\"imperial\":\"21 - 24\",\"metric\":\"53 - 61\"},\"id\":251,\"name\":\"Vizsla\",\"bred_for\":\"Pointing and trailing\",\"breed_group\":\"Sporting\",\"life_span\":\"10 - 14 years\",\"temperament\":\"Affectionate, Energetic, Loyal, Gentle, Quiet\",\"reference_image_id\":\"r1o0jx9Em\"},{\"weight\":{\"imperial\":\"55 - 90\",\"metric\":\"25 - 41\"},\"height\":{\"imperial\":\"23 - 27\",\"metric\":\"58 - 69\"},\"id\":253,\"name\":\"Weimaraner\",\"bred_for\":\"Large game trailing and versatile gundog\",\"breed_group\":\"Sporting\",\"life_span\":\"12 - 15 years\",\"temperament\":\"Steady, Aloof, Stubborn, Energetic, Alert, Intelligent, Powerful, Fast\",\"reference_image_id\":\"SyU12l9V7\"},{\"weight\":{\"imperial\":\"35 - 55\",\"metric\":\"16 - 25\"},\"height\":{\"imperial\":\"17 - 19\",\"metric\":\"43 - 48\"},\"id\":254,\"name\":\"Welsh Springer Spaniel\",\"bred_for\":\"Flushing and retrieving birds\",\"breed_group\":\"Sporting\",\"life_span\":\"12 - 15 years\",\"temperament\":\"Stubborn, Friendly, Affectionate, Loyal, Playful, Active\",\"reference_image_id\":\"BJ1gnx5Vm\"},{\"weight\":{\"imperial\":\"15 - 22\",\"metric\":\"7 - 10\"},\"height\":{\"imperial\":\"10 - 11\",\"metric\":\"25 - 28\"},\"id\":256,\"name\":\"West Highland White Terrier\",\"bred_for\":\"Fox, badger, vermin hunting\",\"breed_group\":\"Terrier\",\"life_span\":\"15 - 20 years\",\"temperament\":\"Hardy, Friendly, Alert, Independent, Gay, Active, Courageous\",\"reference_image_id\":\"Bkdx2g5Em\"},{\"weight\":{\"imperial\":\"25 - 35\",\"metric\":\"11 - 16\"},\"height\":{\"imperial\":\"18 - 22\",\"metric\":\"46 - 56\"},\"id\":257,\"name\":\"Whippet\",\"bred_for\":\"Coursing, racing\",\"breed_group\":\"Hound\",\"life_span\":\"12 - 15 years\",\"temperament\":\"Friendly, Affectionate, Lively, Gentle, Intelligent, Quiet\",\"reference_image_id\":\"Hyv-ne94m\"},{\"weight\":{\"imperial\":\"60 - 85\",\"metric\":\"27 - 39\"},\"height\":{\"imperial\":\"22 - 25\",\"metric\":\"56 - 64\"},\"id\":258,\"name\":\"White Shepherd\",\"life_span\":\"12 – 14 years\",\"temperament\":\"Self-confidence, Aloof, Fearless, Alert, Companionable, Eager\",\"reference_image_id\":\"r14M3e9E7\"},{\"weight\":{\"imperial\":\"15 - 19\",\"metric\":\"7 - 9\"},\"height\":{\"imperial\":\"13 - 16\",\"metric\":\"33 - 41\"},\"id\":259,\"name\":\"Wire Fox Terrier\",\"bred_for\":\"Vermin hunting, fox bolting\",\"life_span\":\"13 – 14 years\",\"history\":\" England\",\"temperament\":\"Fearless, Friendly, Bold, Keen, Alert, Quick\",\"reference_image_id\":\"SJ6f2g9EQ\"},{\"weight\":{\"imperial\":\"45 - 70\",\"metric\":\"20 - 32\"},\"height\":{\"imperial\":\"20 - 24\",\"metric\":\"51 - 61\"},\"id\":260,\"name\":\"Wirehaired Pointing Griffon\",\"bred_for\":\"Gundog, \\\\\"swamp-tromping\\\\\", Flushing, pointing, and retrieving water fowl & game birds\",\"breed_group\":\"Sporting\",\"life_span\":\"12 - 14 years\",\"temperament\":\"Loyal, Gentle, Vigilant, Trainable, Proud\",\"reference_image_id\":\"Bkam2l9Vm\"},{\"weight\":{\"imperial\":\"45 - 65\",\"metric\":\"20 - 29\"},\"height\":{\"imperial\":\"21.5 - 25\",\"metric\":\"55 - 64\"},\"id\":261,\"name\":\"Wirehaired Vizsla\",\"breed_group\":\"Sporting\",\"life_span\":\"12 - 14 years\",\"reference_image_id\":\"r1I4hl5Em\"},{\"weight\":{\"imperial\":\"9 - 31\",\"metric\":\"4 - 14\"},\"height\":{\"imperial\":\"10 - 23\",\"metric\":\"25 - 58\"},\"id\":262,\"name\":\"Xoloitzcuintli\",\"breed_group\":\"Non-Sporting\",\"life_span\":\"12 - 14 years\",\"temperament\":\"Cheerful, Alert, Companionable, Intelligent, Protective, Calm\",\"reference_image_id\":\"HkNS3gqEm\"},{\"weight\":{\"imperial\":\"4 - 7\",\"metric\":\"2 - 3\"},\"height\":{\"imperial\":\"8 - 9\",\"metric\":\"20 - 23\"},\"id\":264,\"name\":\"Yorkshire Terrier\",\"bred_for\":\"Small vermin hunting\",\"breed_group\":\"Toy\",\"life_span\":\"12 - 16 years\",\"temperament\":\"Bold, Independent, Confident, Intelligent, Courageous\",\"reference_image_id\":\"B12BnxcVQ\"}]'"
      ]
     },
     "execution_count": 4,
     "metadata": {},
     "output_type": "execute_result"
    }
   ],
   "source": [
    "# Using endpoints\n",
    "\n",
    "response = requests.get(\"https://api.thecatapi.com/v1/breeds\")\n",
    "response.text\n",
    "\n",
    "response = requests.get(\"https://api.thedogapi.com/v1/breeds\")\n",
    "response.text"
   ]
  },
  {
   "cell_type": "markdown",
   "metadata": {},
   "source": [
    "Resquests and Response"
   ]
  },
  {
   "cell_type": "code",
   "execution_count": 5,
   "metadata": {},
   "outputs": [
    {
     "data": {
      "text/plain": [
       "{'User-Agent': 'python-requests/2.32.3', 'Accept-Encoding': 'gzip, deflate', 'Accept': '*/*', 'Connection': 'keep-alive'}"
      ]
     },
     "execution_count": 5,
     "metadata": {},
     "output_type": "execute_result"
    }
   ],
   "source": [
    "response = requests.get(\"https://api.thecatapi.com/v1/breeds\")\n",
    "response\n",
    "\n",
    "response.status_code\n",
    "\n",
    "response.text\n",
    "\n",
    "\n",
    "\n",
    "response.headers\n",
    "\n",
    "\n",
    "\n",
    "\n",
    "response.request\n",
    "\n",
    "request = response.request\n",
    "request.url\n",
    "\n",
    "request.path_url\n",
    "\n",
    "request.method\n",
    "\n",
    "request.headers\n",
    "\n",
    "# Here, you have accessed a few of the most important attributes that are available for Request and Response objects"
   ]
  },
  {
   "cell_type": "markdown",
   "metadata": {},
   "source": [
    "Status Codes"
   ]
  },
  {
   "cell_type": "code",
   "execution_count": 6,
   "metadata": {},
   "outputs": [
    {
     "data": {
      "text/plain": [
       "'OK'"
      ]
     },
     "execution_count": 6,
     "metadata": {},
     "output_type": "execute_result"
    }
   ],
   "source": [
    "# Check response status\n",
    "\n",
    "response = requests.get(\"https://api.thecatapi.com/v1/breeds\")\n",
    "response\n",
    "\n",
    "response.status_code\n",
    "\n",
    "response.reason"
   ]
  },
  {
   "cell_type": "code",
   "execution_count": 7,
   "metadata": {},
   "outputs": [
    {
     "data": {
      "text/plain": [
       "'Not Found'"
      ]
     },
     "execution_count": 7,
     "metadata": {},
     "output_type": "execute_result"
    }
   ],
   "source": [
    "# Failure response\n",
    "response = requests.get(\"https://api.thecatapi.com/v1/breedz\")\n",
    "response\n",
    "\n",
    "response.status_code\n",
    "\n",
    "response.reason\n",
    "# As you can see, the /breedz endpoint doesn’t exist, so the API returns a 404 Not Found status code."
   ]
  },
  {
   "cell_type": "code",
   "execution_count": 8,
   "metadata": {},
   "outputs": [
    {
     "data": {
      "text/plain": [
       "{'x-dns-prefetch-control': 'off', 'x-frame-options': 'SAMEORIGIN', 'strict-transport-security': 'max-age=15552000; includeSubDomains', 'x-download-options': 'noopen', 'x-content-type-options': 'nosniff', 'x-xss-protection': '1; mode=block', 'vary': 'Origin', 'content-type': 'application/json; charset=utf-8', 'x-response-time': '1ms', 'x-cloud-trace-context': '1f68a86765671ba6460c792f0e63a44a', 'date': 'Fri, 11 Apr 2025 09:33:53 GMT', 'server': 'Google Frontend', 'Content-Length': '1041'}"
      ]
     },
     "execution_count": 8,
     "metadata": {},
     "output_type": "execute_result"
    }
   ],
   "source": [
    "response = requests.get(\"https://api.thecatapi.com/v1/breeds/abys\")\n",
    "response.headers"
   ]
  },
  {
   "cell_type": "code",
   "execution_count": 9,
   "metadata": {},
   "outputs": [
    {
     "data": {
      "text/plain": [
       "{'User-Agent': 'python-requests/2.32.3', 'Accept-Encoding': 'gzip, deflate', 'Accept': '*/*', 'Connection': 'keep-alive'}"
      ]
     },
     "execution_count": 9,
     "metadata": {},
     "output_type": "execute_result"
    }
   ],
   "source": [
    "response = requests.get(\"https://api.thecatapi.com/v1/breeds/abys\")\n",
    "response.request.headers"
   ]
  },
  {
   "cell_type": "markdown",
   "metadata": {},
   "source": [
    "Custom Header"
   ]
  },
  {
   "cell_type": "code",
   "execution_count": 10,
   "metadata": {},
   "outputs": [
    {
     "data": {
      "text/plain": [
       "{'User-Agent': 'python-requests/2.32.3', 'Accept-Encoding': 'gzip, deflate', 'Accept': '*/*', 'Connection': 'keep-alive', 'X-Request-Id': '<my-request-id>'}"
      ]
     },
     "execution_count": 10,
     "metadata": {},
     "output_type": "execute_result"
    }
   ],
   "source": [
    "headers = {\"X-Request-Id\": \"<my-request-id>\"}\n",
    "response = requests.get(\"https://example.org\", headers=headers)\n",
    "response.request.headers"
   ]
  },
  {
   "cell_type": "markdown",
   "metadata": {},
   "source": [
    "Content Type"
   ]
  },
  {
   "cell_type": "code",
   "execution_count": 11,
   "metadata": {},
   "outputs": [
    {
     "data": {
      "text/plain": [
       "'application/json; charset=utf-8'"
      ]
     },
     "execution_count": 11,
     "metadata": {},
     "output_type": "execute_result"
    }
   ],
   "source": [
    "response = requests.get(\"https://api.thecatapi.com/v1/breeds/abys\")\n",
    "response.headers.get(\"Content-Type\")"
   ]
  },
  {
   "cell_type": "code",
   "execution_count": 12,
   "metadata": {},
   "outputs": [
    {
     "data": {
      "text/plain": [
       "{'User-Agent': 'python-requests/2.32.3', 'Accept-Encoding': 'gzip, deflate', 'Accept': '*/*', 'Connection': 'keep-alive', 'X-Request-Id': '<my-request-id>'}"
      ]
     },
     "execution_count": 12,
     "metadata": {},
     "output_type": "execute_result"
    }
   ],
   "source": [
    "headers = {\"X-Request-Id\": \"<my-request-id>\"}\n",
    "response = requests.get(\"https://example.org\", headers=headers)\n",
    "response.request.headers"
   ]
  },
  {
   "cell_type": "code",
   "execution_count": 13,
   "metadata": {},
   "outputs": [
    {
     "data": {
      "text/plain": [
       "'application/json; charset=utf-8'"
      ]
     },
     "execution_count": 13,
     "metadata": {},
     "output_type": "execute_result"
    }
   ],
   "source": [
    "response = requests.get(\"https://api.thecatapi.com/v1/breeds/abys\")\n",
    "response.headers.get(\"Content-Type\")"
   ]
  },
  {
   "cell_type": "code",
   "execution_count": 14,
   "metadata": {},
   "outputs": [
    {
     "data": {
      "text/plain": [
       "'image/png'"
      ]
     },
     "execution_count": 14,
     "metadata": {},
     "output_type": "execute_result"
    }
   ],
   "source": [
    "url = \"https://image-charts.com/chart?chs=700x125&cht=ls&chd=t:23,15,28\"\n",
    "response = requests.get(url)\n",
    "response\n",
    "\n",
    "response.headers.get(\"Content-Type\")"
   ]
  },
  {
   "cell_type": "markdown",
   "metadata": {},
   "source": [
    "Response Content"
   ]
  },
  {
   "cell_type": "code",
   "execution_count": 15,
   "metadata": {},
   "outputs": [
    {
     "data": {
      "text/plain": [
       "b'{\"weight\":{\"imperial\":\"7  -  10\",\"metric\":\"3 - 5\"},\"id\":\"abys\",\"name\":\"Abyssinian\",\"cfa_url\":\"http://cfa.org/Breeds/BreedsAB/Abyssinian.aspx\",\"vetstreet_url\":\"http://www.vetstreet.com/cats/abyssinian\",\"vcahospitals_url\":\"https://vcahospitals.com/know-your-pet/cat-breeds/abyssinian\",\"temperament\":\"Active, Energetic, Independent, Intelligent, Gentle\",\"origin\":\"Egypt\",\"country_codes\":\"EG\",\"country_code\":\"EG\",\"description\":\"The Abyssinian is easy to care for, and a joy to have in your home. They\\xe2\\x80\\x99re affectionate cats and love both people and other animals.\",\"life_span\":\"14 - 15\",\"indoor\":0,\"lap\":1,\"alt_names\":\"\",\"adaptability\":5,\"affection_level\":5,\"child_friendly\":3,\"dog_friendly\":4,\"energy_level\":5,\"grooming\":1,\"health_issues\":2,\"intelligence\":5,\"shedding_level\":2,\"social_needs\":5,\"stranger_friendly\":5,\"vocalisation\":1,\"experimental\":0,\"hairless\":0,\"natural\":1,\"rare\":0,\"rex\":0,\"suppressed_tail\":0,\"short_legs\":0,\"wikipedia_url\":\"https://en.wikipedia.org/wiki/Abyssinian_(cat)\",\"hypoallergenic\":0,\"reference_image_id\":\"0XYvRd7oD\"}'"
      ]
     },
     "execution_count": 15,
     "metadata": {},
     "output_type": "execute_result"
    }
   ],
   "source": [
    "response = requests.get(\"https://api.thecatapi.com/v1/breeds/abys\")\n",
    "response.headers.get(\"Content-Type\")\n",
    "\n",
    "response.content"
   ]
  },
  {
   "cell_type": "code",
   "execution_count": 16,
   "metadata": {},
   "outputs": [
    {
     "data": {
      "text/plain": [
       "'Abyssinian'"
      ]
     },
     "execution_count": 16,
     "metadata": {},
     "output_type": "execute_result"
    }
   ],
   "source": [
    "response = requests.get(\"https://api.thecatapi.com/v1/breeds/abys\")\n",
    "response.headers.get(\"Content-Type\")\n",
    "\n",
    "response.json()\n",
    "\n",
    "\n",
    "response.json()[\"name\"]"
   ]
  },
  {
   "cell_type": "code",
   "execution_count": 17,
   "metadata": {},
   "outputs": [
    {
     "data": {
      "text/plain": [
       "b'\\x89PNG\\r\\n\\x1a\\n\\x00\\x00\\x00\\rIHDR\\x00\\x00\\x02\\xbc\\x00\\x00\\x00}\\x08\\x02\\x00\\x00\\x00\\xcf\\xf3\\',\\x00\\x00\\x0c\\xbeIDATx\\xda\\xec\\xda\\xbb\\x8a\"A\\x14\\x06\\xe0f\\x03\\x8d5\\x13s\\xdf\\xa6\\xfa\\x11D\\x05\\x15A\\x91\\xaeNT\\x94\\r\\xc4v\\x03\\xdb\\x07\\xf0\\x82\\x18\\xa9\\xef\\xa1xi;6\\xd7\\x16\\x051P\\xbc%\\xd2[\\xecAid\\x9d\\x19\\x06\\x87\\t\\xe6\\xff\"\\x7fN\\xd5\\t\\x8c\\x0e\\xa7K\\xb2\\x01\\x00\\x00\\x00>@\\xc2_\\x00\\x00\\x00\\x00\\x18\\x1a\\x00\\x00\\x00\\xbe\\xd6\\xf9|f\\x8cM&\\x13\\xfb\\x8b\\x1d\\x8fG\\xc6\\x98a\\x18\\xf6{\\xc6\\xe3\\xb18y\\xb9\\\\\\xecW\\xfb%\\x01\\x00\\x00\\xc0g\\xb9\\\\\\xaeB\\xa1\\x10\\x08\\x04\\xa4\\x1f\\x00\\x9b\\x06\\x00\\x00\\x80\\x17l\\x1a\\x9a\\xcd&s\\xd0u\\x9d\\x0e\\xac\\xd7\\xebH$\\xc2\\x18S\\x14\\xe5Y\\xccd2\\xf6\\xff,\\x97KQ\\xcdf\\xb3\\xd7\\xeb\\x956\\rB\\xb5Z\\xa5\\xeaj\\xb5\\xa2V\\x9cs\\x11\\xf7\\xfb}2\\x99l\\xb5Z\\xb4i\\xb8\\xaf%\\xfa\\xfd>\\xc5\\xe9t\\xea\\xec\\x1c\\x0e\\x87s\\xb9\\x9c\\xe8L\\xad(\\x8a\\xdf\\x87\\xc3\\x819\\xc8\\xb2,\\xaa\\xf8<\\x01\\x00\\x00\\xf0\\xca\\xa1!\\x1e\\x8f\\x0f\\x87C\\x11;\\x9dN\\xb9\\\\\\xaeT*T\\xa5\\xa8(\\xca\\xe9t\\x12\\xb1\\xdb\\xedj\\x9av\\x8f\\xedv\\xbbX,\\xd2\\x0cq\\xb8\\x11\\x17iJ\\xa0\\xc3\\x9csg\\xd4u\\xfd\\xa1*\\xceG\\xa3Q\\x11-\\xcb\\xa2\\xa1a4\\x1a\\xedv\\xbbz\\xbd\\x1e\\x8b\\xc5\\x06\\x83\\x81i\\x9a\"\\xda\\xff8\\xef\\xaa\\xaaJSB\\xaf\\xd7+\\x95J\\x0f1\\x91H\\x88\\xbb\\xc1`p6\\x9bah\\x00\\x00\\x00x\\xd9\\xd0\\xa0(\\xca\\xdb\\x91\\xa6\\x04\\xc30\\x9cQH\\xa7\\xd3\\x96eQ$\\xa2z\\x7f\\xc4\\xb0\\xd9l\\xe6\\xf3\\xf9=6\\x1a\\r\\xce\\xf9\\xb3\\xf8\\xf0\\xa6a\\xbb\\xdd\\x8a\\xe6\\xb2,?<\\x8f\\xa0\\xc5\\x83\\xe8\\xbcX,hJ0M\\xb3V\\xab\\xa9\\xaa\\xfa,\\xe2M\\x03\\x00\\x00\\xc07\\x0b\\x85B\\xf9|\\xde\\xef\\xf7\\xbb\\xdd\\xee?7\\xa9TJ\\xba\\xf1x<>\\x9fO\\xfa\\x14\\xaf\\xd7\\xabi\\xda\\xef\\xbf\\xec\\xda?h\\x1aQ\\x1c\\x07\\xf0\\xf7\\xae^Ki\\xe9AM\\xc1@\\x17\\x0b]\\n]\\xba\\xe8\\xe0R\\xe8\\x14\\xba\\x16:\\xb6S\\xa9\\x83\\xd4\\xa1x\\x14J(\\x94\\x0e.\\xdd:g9\\xa8C\\x06\\x97`\\xb6\\x04B\\xa6\\x08N\\xa2\\xa0C\\xc4\\\\r\\xe6\\x8cJL\\xee\\xce?\\xf7\\xf2\\x0bGTr$\\x84\\x80B\\xe4\\xfb\\xe1\\x94\\xf7\\xe3\\xde\\xbd\\xe1\\xa6/\\xf7\\xfb-/g2\\x19\\xe6C\\'\\x87B!v3\\xa2k!4\\x00\\x00\\x00LK \\x10\\x88F\\xa3\\xd5j\\xb5\\xd1hL\\x96\\x86a\\x8c\\xca~\\xbf_\\xab\\xd5J\\xa5\\x92$I\\xaf.\\x84\\xc3a\\xef\\x04\\xda\\x9cN\\xa7S\\xa9\\xd4\\xf5\\'\\xfb\\x15\\n\\x05\\x9ar\\xa8\\xd7\\xebt\\xb2\\xe38\\x9a\\xa6\\xe5\\xf3y*\\xcb\\xe5\\xb2\\xb7\\xa1R\\xa9\\xd0\\xc9\\xaa\\xaa\\xca\\xb2\\x1c\\x89D\\xa84M3\\x16\\x8bywE\\xbb\\xeb\\xee5\\xdd]\\xa3\\xf7\\x7f\\xc3\\xad\\xea\\xce\\xdfU\\xfb\\xb7\\x86\\xf6\\x04\\x00\\x00\\xc0\\xb4\\xda\\x13\\xde\\x1e\\x9ad\\x1cM>\\x12UU\\xaf*\\xfd\\xe8.\\x8dD\\xd0\\xe2R?b\\xf2\\xd9K\\xed\\t\\xcb\\xb2r\\xb9\\x9cW\\xd2L\\x837\\xcc\\xa8\\xeb\\xbam\\xdbTR\\xc7\\xc1{\\x96\\x82\\x08\\x8d5\\x082\\x18\\xba\\x87\\xed\\xef\\x9f\\xbfh?\\xfe8+\\xeb\\xe6\\xaf\\x95\\xa5\\x17\\xaf\\xb7?\\xfd\\xfc\\xf7\\xf1\\xeb\\xb7\\xa5\\x0f\\xed\\xb5\\xed\\xf7o\\xdf\\xedln\\xd1FN?$A\\x00\\x00\\x80\\x99)\\x16\\x8b\\xd9lVQ\\x94x<\\xcefN\\xd8=\\xd1h\\x0b\\xb3\\xe3\\xee\\x1f\\xd1%\\xf6\\x9b\\xae\\xd9\\xe1\\xcaci\\xf1)]|A9_<\\x7f\\xc6\\x1e\\xc8\\xcc\\x07\\xa1\\x01\\x00\\x00`\\xa6\\x92\\xc9$u\\x1f\\x12\\x89\\x04\\x9b>q\\xeaP,\\xa0p0N\\t\\x9d\\xae\\xb4\\xa0\\xf0\\xc5\\xe0DJ\\x082\\xf9\\x1e\\xf3Ah\\x00\\x00\\x00\\x98[\\xa2sB\\xb1`\\x9c\\x12\\xf4&\\x1b\\x0c\\xbd\\x8f\\x07\\xe3\\x94\\x10|\\xc28g\\xb7\\x12\\xc0+\\x06\\x00\\x00\\xb8{\\x86\\xaeh\\x1d\\x8f[\\x0c\\xb48h\\xf1\\x87\\xf7G-\\x06\\xfe\\xe6\\xe5\\xf9\\xbf\\xf2\\x88\\xdd\\x0c\\xbe4\\x00\\x00\\x00\\xcc\\x03a\\xf5\\xc4\\xe1-\\x07\\x11\\x10\\x1a\\x00\\x00\\x00\\xee\\x80\\xd9\\x0f\" 4\\x00\\x00\\x00`\\x10\\x813\\x1f\\x84\\x06\\x00\\x00\\x8095\\x18\\xd2\\xe4\\x810Z\\xee\\x19{g\\xd3\\xdbJu\\x06\\xe0s&\\x1f\\xb6\\xc73\\xf6\\xd8Il\\xb7H]\\xf7\\x1f\\xf4_U\\xad*u\\xd7M\\xd7\\xddTB\\xb4j7H\\x88\\r\\x0b@,\\x90X\\xc0\\x8a\\x05\\x0b$$$`\\x87\\x00\\xf1a\\xe7\\xda\\x1e\\x7f\\x8e\\x9d\\xd8>\\x87\\xf3A\\xc67\\xc4\\xe6\\x86{o.q\\xfc<\\x1a\\xbd:3\\xc9\\xea8\\x8e\\x1f\\xbd~\\xdf\\xf7\\xb4\\xfbn\\xd1W\\x9d\\x81\\xac\\x84A\\xabf2\\x07\\xb2Y\\x0bZu\\xd9\\xaa\\xc9rQl\\x02i\\x00\\x00\\x00x\\xb8\\xdf2\\xe4r\\xd0\\xb6\\xa2\\xa0\\x07\\xd3\\xe0\\xacj\\xe5 \\xb7\\x84fM\\x1c\\x1f\\x8a\\x1b \\r\\x00\\x00\\x00\\x0f\\xbf\\x10A\\xfd\\xd0\\xd3&vGb:\\x93g\\x89<\\xad\\xae\\x0b\\x11~\\x7f\"\\x0e\\x0f\\xc4\\xce\\xc2\\x18i\\x00\\x00\\x80_\\xc9\\xca\\xce]^~\\xf1\\xcd\\xe2\\x83O.^\\x7f\\x7f\\xf6\\xaf7\\xb2\\xbf\\xfe\\'\\xfb\\xdb\\x7f\\xcd\\xc2\\xdc^\\xbe\\xf7\\xf1\\xf2\\xd3/\\xcd/h\\xa5\\x1f\\x18\\xcci\\x00\\x00\\x00\\xf8E\\xdc\\xd1\\x0c>yp\\x95K\\xe8\\xcb\\xb0\\xe0\\n\\x15\\xeb\\xc1\\x1f\\x1a\\x07f\"\\xc2K\\xa72.\\x89\\xdbA\\xa6\\x01\\x00\\x00\\xe0!\\xa0\\xa6\\xf3\\xd5\\xd7\\x9d\\xc5G\\x9f_\\xbe\\xf5\\xe1\\xfc\\x95w\\xb2\\x7f\\xbc:\\xfd\\xf3\\xcb\\xb3\\x7f\\xbe6\\xff\\xff\\xbb\\xe6\\x89yn~\\xaa/\\x16\\xfaV\\x90i\\x00\\x00\\x00x`\\xed\\x8e\\xdd\\xa1/D0k\\xb1X\\xe6\\xed\\x8e\\x87\\x7f\\xfa\\xa3\\xcd%4\\xeb\"\\x90\\xec\\x15\\x99\\x06\\x00\\x00\\xd8\\x17\\xfc\\x01\\xd0\\xa6\\xda\\xc0\\xd4\\x1c\\xf8B\\x84\\xe9_^\\xc9\\x0b\\x11Lu\\x82\\xa9Q0\\xbf\\xc0>m\\x83\\xa3\\xb1\\x01\\x00`\\x7f\\xe7.KS\\x88P<f\\xafh\\xb9\\x04\\x00\\x00\\xe6.o\\x98\\xbb\\xcc^\\xf1\\xf5\\x04\\x00\\x00\\xeci\\xbb\\xe3\\xfc\\xdfof\\x7f\\xff\\xdf\\xa6vG\\xc5V=w\\xe4\\xf2\\xb3\\xafd\\x12\\xc98\\x94q\\t\\x85\\x02\\x00\\x80\\xfb\\xc5\\xe5Ru\\xdc\\xdce\\x93Hh\\xbb\\xc5\\xa3\\xa1L\\xcaA\\xab\\x1e\\xb4j\\xb2\\xe9b\\xab.\\xc3\\x02[\\xf5\\x02\\x90\\xf3\\x97\\xdf\\xd6\\xe9D\\x8f3=\\xbb\\xb4\\xeaP\\x8b\\xae\\xc5J(\\x13\\x17#\\x94\\x02\\x00\\x00\\xee\\x16=\\x9d\\xdb\\x16\\x067t\\xd9-R=\\xca\\x82f\\xe2\\xe5\\xc0\\x88\\x82\\x1f\\xc0,\\x0e\\xf9\\x96\\xe17\\xafiX\\xae\\xec\\xab5\\x9cn\\xbe\\xb2\\xb9\\x0c\\x8b\\xb2Z\\xde|UB!iG\\x01\\x00\\x80\\xa7nw\\xf4s\\x97\\xe7\\xf2\\xec\\xeat\\xc7\\xd3\\n\\xed\\x8e\\xbbW\\x08\\x89R\\x00\\x00\\xc0\\xb3\\xb2R:\\x1d\\x1bE\\xc8-A}\\xdb\\x95\\x07\\x81\\xd5\\x02\\xe3\\x07\\xb9%\\x9cT\\x05\\x1f\\x17;-\\r(\\x05\\x00\\x00<\\xe5\\xdc\\xe5\\xdc\\x12:\\xa9\\x8cC\\xa3\\x05\\xde\\x12hw\\xa4\\xe5\\xf2\\x8e\\x94\\xa2\\x8cu\\x02\\x00\\xec~\\xbbc]\\x1c1\\x83\\x18ixv\\x16+=\\x9c\\xfc\\xdc$\\x06S=rq\\xb9\\xba\\xe6\\x10\\x89\\xd1\\x08\\x1f\\xed-\\xe5\\xb2\\x00\\x00/\\x14\\xa5uo\\xa8\\xda\\xa9j\\xf7]GC_\\xb7Sq\\x18\\x98\\xe4\\x81l&\\xb6P\\xb1U\\x0f\\x9a5Y\\x8f\\xd9*\\xa4\\xe1\\xb7`\\xb1\\xf4\\x02\\xb1)\\xe6J\\x11\\xcaj\\x94\\xc7\\xb5U\\x94\\x8b\\xbc\\xc0\\x00\\x00O\\xcf\\xc2\\xb5;ZEp\\xed\\x0c&>\\x1a\\xcaj9od\\xb0\\xb1U\\xe3\\x9f-\\xd2\\xb0f\\x97\\x94bx\\xfdZ,s\\x81\\xc8#J\\x01\\x00\\xb0\\x11=\\x9e\\xd9.\\x86\\xce\\xc0\\x89\\xc2U\\xbbc#\\x91F\\x11\\x8c\\x1f\\xfc\\xceYB\\xb3\\xcePE\\xa4\\xe1>By&\\x00\\xc0]\\xa1\\x94\\xee\\x8fUw\\xb4\\xaeE\\xf8\\xbe\\'\\x96+yJ\\xbb#p\\xf6\\xc4sW\\x8a8\\xe4\\x8d\\x04\\x00;\\xd7\\xcb\\x90[\\x82j\\xf7e\\xa9`\\xfc \\xb7\\x04\\x1b\\xabe\\xb6\\n\\x90\\x06\\x94\\x02\\x00\\xe8e\\xa8\\xae\\xf3\\x07f\\xd1\\xaa\\x8bcz\\x19\\x00i\\xb8\\x0fJ1\\xced\\xf1x\\xabR\\xd4+(\\x05\\x00<\\xc7\\x89Iy\\xfe\\xc0V$|\\xd7\\x13\\x81|<\\x7f`\\x17\\'\\x15\\xbeo\\x05\\xa4aw\\x94\"3\\xb7\\x99\\x91}\\x1b\\xfb#\\x94\\x02\\x00\\x9e\\x02=\\xbb\\xd0\\x8f\\x86\\xba;\\xdc61\\xc9\\xba\\xc2K\\xa7\\x9c>\\x08H\\xc3CK\\x1ez\\x81\\xc8\\xe3\\xad\\x95\"\\x16A\\xc0\\x06\\x02\\xec\\xeb\\xb9\\x0c3y\\x96\\x183`b\\x12 \\rp\\x1b\\xa5\\x18\\xcb\\xe2\\x11J\\x01\\xf0\\x00\\xd3\\x93\\x83\\xc9\\xb6s\\x19rK\\xe0\\\\\\x06@\\x1a\\x00\\xa5\\x00\\xd8\\xbbw\\xb17\\x83u;Cw(\\xabQ\\x9e?\\xe0\\\\\\x06@\\x1a\\xe0\\xeeQJ\\x8fg[\\x07hNf2*m\\x9dv\\x15\\x97P\\n\\x80;yWvG\\xca\\x0eJ\\x1a\\xd8\\xa1\\xcb\\x1d7tY\\x087.\\xc9OT\\xb4\\x97<\\xa9R\\xcc\\x04H\\x03\\xdc\\'\\x94\\xd6\\xe3\\xecF\\xaf\\x87\\xb7\\x8a\\\\)B?\\xd8J&\\x91\\xbd\\xadE2v\\xebJ(\\x0e\\x99\\x01\\x07\\xf0\\x04\\xf4tn\\xcd\\xa0\\x9d\\xea\\xf3\\xd4YB_\\xf5\\xc62\\x89\\x02\\x7f(\\x83\\x89\\xcd\\x9a4\\x8b\\x88BE@\\x1a`\\xa7\\xd1Z\\x8f27\\x8a;\\xf3\\x1aa\\r#\\x9d\\x18\\x99\\xd0\\x83\\x89\\xf9\\x91,\\x1c\\xb9C\\xc2\\xbcU\\x98\\x18\\xd9\\x98\\x94E\\x1c\\x06I$\\nGl!\\xecc\\n!W\\x04\\x13;\\xa9X)\\x9f<\\xb0\\xb1ib\\x12\\x9c%\\x087 \\r\\xb0\\x7f,\\x96\\xdbG]]0\\x93\\x1b\\xf6\\xad\\xd7\\xd1D\\x19^\\x9f\\xa8xZ\\xa1P\\x11\\x90\\x06\\x80\\xdb\\x9do\\x9e=i\\x80fX\\xd8\\xac\\x14\\xb5X\\x1cPN\\x01\\xf7\\xeeP\\x86\\x8d\\xbd\\x8eLT\\x04\\xa4\\x01i\\x80\\x178\\xed*\\x9b\\xffr\\xd3\\x87\\x08\\x0b\\xd7\\x0e:\\xaf\\xc5\\xd4\\x90\\x03)\\x04\\x00\\xa4\\x01`k\\x1f\\xa90O\\xbcd\\xa4\\x13\\xbdZy\\x81\\xd8\\x10\\xc3\"G\\xec\\xc0\\xb3\\xa4\\x106\\x1d\\xcaP\\x13\\xc7\\xd4\\xe8\\x00 \\r\\xb0\\xb3\\x15\\xe9\\xbeB\\xd3\\xf5z\\x988\\xb1q0\\x15\\x93L\\xa5\\x13\\xa1\\xb5Ll\\x97\\x87o\\xfd\\xb0\\x8b\\xc4\\xc5\\xaayB+\\xe9^\\x9bh^\\x9f\\xa8:.v\\x87\\xb2Rv\\xfd\\x0b\\xbeJ\\xd1F\\xa4\\x13\\x00i\\x80}\\xe2r\\xe1{=\\x9cO\\xd8\\x85\\xbf\\xb5\\x92\\xe1\\xa7S\\x94\\x8b2*=.\\x16\".\\x05Id\\xa2Y\\xcbR\\x81-\\xdcyVJ\\xf7F\\xea|\\xa0\\xda}\\xdd\\x198E\\xe8\\x8b\\xc5*oq\\x0c\\x1a\\x89U\\x84FM\\x1c\\xd1\\xc8\\x00\\x804\\x00lC\\x0b#\\x10\\xbeq47\\t\\xaf\\x17b<\\xb3I\\x8b\\xe5\\xca\\xcf\\xa2\\xb8\\x12\\x0bg\\x12\\x95<o\\xc1\\x80\\x8a\\xfb\\xf7\\x82\\xa6c\\xf5h`\\xe5\\xe0|\\xa0\\xcfS\\x1b\\xd3\\xb1\\xacF\\xd6\\x0c|\\xbbc\\xc3DR\\x08\\x00H\\x03\\xc0\\x0b,\\xd2\\x14\\xd9\\x85\\xea\\x8f\\x85R7\\xab(\\xd6W\\x1c2\\xc8\\xef\\x8e\\xc7-\\xdf8\\xd4\\xf1 x\\xbcD\\xd1\\xacid\\x00@\\x1a\\x00\\xee\\xe5\\x80\\x8a\\xec\\xe2\\xda\\xed8\\xcbO%\\xdd\\xd0\\x00\\x92\\xc4\\xb2D\\xeb\\xc7m\\xed\\xcd\\xe6\\x0f|q\\xa2\\x17\\x85\\xef{\\xe6\\xa1q\\x82\\xc7\\x1b\\x1de#\\xa1\\x9b\\x06\\x00i\\x00\\xd8\\xd9D\\xc5d\\xe6\\xab(|\\xb5f^T\\xe1\\xcb6\\xe5A`\\xe7fF\\xa1\\xac\\xb8+*\\xb9\"M\\xbf\\xb0G\\x81\\x88\\xc2\\xd1\\x9e\\xfaAg`\\xe3\\xf9@uLL\\xf5|\\x114\\x12\\xe3\\x04\\xeb\\xd8\\xac\\xc9r\\x91?1\\x00\\xa4\\x01`_\\xd0\\xf3K\\xdf\\xe8\\xa1G\\xee\\x9a\\xcc\\x9cO\\xf8\\xc5\\xccx\\x86P\\xda\\xdb\\x83\\x89\\xf9BD?-\\xbc[\\xec\\xf0<M\\xa5uotU\\x82\\x90\\xeasW\\x880\\x9a\\x06\\xf5\\x8al\\xb8*\\xc5\\xb3\\xc4-\\x12\\x99D\\xfc\\xb5\\x00 \\r\\x00\\xf0\\xa4\\xaf?lI\\xe64\\xd7\\x08\\x13\\xc5\\xc4>\\xb1\\xb7\\xc66\\xa6s\\x19Y{\\xf0\\xb9\\na5\\xe2gI\\x8b\\xf0^4\\x05(\\xa5\\xd3\\x89\\xea\\x0e\\xed\\xac\\xa4\\xf3\\xab*\\xc5\\xdeH\\xc6\\xa1\\x93\\x03g\\x06\\x8dZ\\xd0\\xa8\\xca\\x93\\n}\\xb0\\x00H\\x03\\x00\\xdc\\x01J[\\x9f\\xf8I#2a\\x167\\x92\\x16\\xf2\\xf0@TB\\x97\\x99p\\x1a\\x11\\x87N2\\xecB\\x94\\x8b\\xae\\xe9\\xb4\\xf8\\x1c?\\xa7\\xf5\\xec\\xd2\\x97\\x1d\\xac\\xeb\\x0fL\\xfc\\xb1}\\xbb\\xd7i\\x18\\x86\\x020\\xea\\x04%((\\x95J\\x11\\xef\\xff\\x88eH\\xf3\\xd3@\\x8do\\x96,\\x0c\\x8c\\xd0\\x9e\\xa3\\xea\\xcaS*e\\xfa\\xe4\\xd8\\xe7\\xa1\\xfcc\\xbd\\x1dA\\xd8\\xbf2\\xbc\\x1f\\xddr\\x04\\xd1\\x00\\xfc!y\\xba\\xc6\\x97\\x8ea\\xfaa\\xd3\\xe22\\xe7\\xcb\\x14\\xdb\\x15m\\x93b\\xc7\\xa24D\\xfcR\\xccn_\\xb7Mj\\x9e\\xaa\\xee\\xb9\\xcc\\xd46q\\xd8p\\xfd\\xbc\\x9d\\x87x\\xc8G\\x99c\\x99\\xf1\\xe4\\xad\\x12\\xd2\\xd7\\xad\\xda\\xae-\\x94D\\xd8\\x17\\xa7\\x83\\xeb\\xa9 \\x1a\\x80{\\x90\\xa7%\\rQ\\x0fy\\x98\\xcbLc\\xccX\\x8fs\\x84\\xc5\\xb2\\xc6\\xa1\\xceq)3]\\xd7<\\xaf\\xa5\\x00\\xeaS\\x9f\\x0e/\\xf5k\\x1f\\x07,\\x8e\\xdb}\\x90\\xb7H\\x84\\xaa\\xef\\xbcOxP\\x19\\x00\\xe0\\x17D\\x03\\x00 \\x1a\\x00\\x00\\xd1\\x00\\x00\\x88\\x06\\x00@4\\x00\\x00\\xa2\\x01\\x00\\x10\\r\\x00\\x00\\xa2\\x01\\x00\\x10\\r\\x00\\x80h\\x00\\x00D\\x03\\x00 \\x1a\\x00\\x00\\xd1\\x00\\x00\\x88\\x06\\x00\\x00\\xd1\\x00\\x00\\x88\\x06\\x00@4\\x00\\x00\\xa2\\x01\\x00\\x10\\r\\x00\\x80h\\x00\\x00D\\x03\\x00\\x80h\\x00\\x00D\\x03\\x00 \\x1a\\x00\\x00\\xd1\\x00\\x00\\x88\\x06\\x00@4\\x00\\x00\\xa2\\x01\\x00@4\\x00\\x00\\xa2\\x01\\x00\\x10\\r\\x00\\x80h\\x00\\x00D\\x03\\x00 \\x1a\\x00\\x00\\xd1\\x00\\x00 \\x1a\\x00\\x00\\xd1\\x00\\x00\\x88\\x06\\x00@4\\x00\\x00\\xa2\\x01\\x00\\x10\\r\\x00\\x80h\\x00\\x00\\x10\\r\\x00\\x80h\\x00\\x00D\\x03\\x00 \\x1a\\x00\\x00\\xd1\\x00\\x00\\x88\\x06\\x00@4\\x00\\x00\\x88\\x06\\x00@4\\x00\\x00\\xa2\\x01\\x00\\x10\\r\\x00\\x80h\\x00\\x00D\\x03\\x00 \\x1a\\x00\\x00D\\x03\\x00 \\x1a\\x00\\x00\\xd1\\x00\\x00\\x88\\x06\\x00@4\\x00\\x00\\xff\\xde7\\x99mp]9[\\xf9\\xbc\\x00\\x00\\x00\\x00IEND\\xaeB`\\x82'"
      ]
     },
     "execution_count": 17,
     "metadata": {},
     "output_type": "execute_result"
    }
   ],
   "source": [
    "url = \"https://image-charts.com/chart?chs=700x125&cht=ls&chd=t:23,15,28\"\n",
    "response = requests.get(url)\n",
    "response\n",
    "\n",
    "\n",
    "response.headers.get(\"Content-Type\")\n",
    "\n",
    "\n",
    "response.content"
   ]
  },
  {
   "cell_type": "code",
   "execution_count": 18,
   "metadata": {},
   "outputs": [],
   "source": [
    "with open(\"chart.png\", mode=\"wb\") as file:\n",
    "    file.write(response.content)"
   ]
  },
  {
   "cell_type": "markdown",
   "metadata": {},
   "source": [
    "HTTP Methods"
   ]
  },
  {
   "cell_type": "code",
   "execution_count": 19,
   "metadata": {},
   "outputs": [
    {
     "data": {
      "text/plain": [
       "<Response [405]>"
      ]
     },
     "execution_count": 19,
     "metadata": {},
     "output_type": "execute_result"
    }
   ],
   "source": [
    "requests.post(\"https://api.thecatapi.com/v1/breeds/abys\")\n",
    "\n",
    "\n",
    "requests.get(\"https://api.thecatapi.com/v1/breeds/abys\")\n",
    "\n",
    "\n",
    "requests.put(\"https://api.thecatapi.com/v1/breeds/abys\")\n",
    "\n",
    "\n",
    "requests.delete(\"https://api.thecatapi.com/v1/breeds/abys\")"
   ]
  },
  {
   "cell_type": "code",
   "execution_count": 20,
   "metadata": {},
   "outputs": [
    {
     "data": {
      "text/plain": [
       "{'results': [{'gender': 'female',\n",
       "   'name': {'title': 'Miss', 'first': 'Selma', 'last': 'Andersen'},\n",
       "   'location': {'street': {'number': 999, 'name': 'Gyvelvej'},\n",
       "    'city': 'Snertinge',\n",
       "    'state': 'Hovedstaden',\n",
       "    'country': 'Denmark',\n",
       "    'postcode': 76249,\n",
       "    'coordinates': {'latitude': '-42.0752', 'longitude': '33.5841'},\n",
       "    'timezone': {'offset': '-12:00', 'description': 'Eniwetok, Kwajalein'}},\n",
       "   'email': 'selma.andersen@example.com',\n",
       "   'login': {'uuid': 'd05014c4-bcfe-47d1-9056-7d076027259d',\n",
       "    'username': 'happyladybug834',\n",
       "    'password': 'easter',\n",
       "    'salt': 'W84B1g2d',\n",
       "    'md5': 'be43dcf0033062dac4ba2c9983048605',\n",
       "    'sha1': '734782905d03fcbbcd4f82f4f5bc60d9e0be0cf1',\n",
       "    'sha256': '6515d49e21863de8b9023ffa722d66e80a98e3eb4a83c165f019e78645d72529'},\n",
       "   'dob': {'date': '1947-04-09T02:49:49.449Z', 'age': 78},\n",
       "   'registered': {'date': '2011-10-10T09:13:28.024Z', 'age': 13},\n",
       "   'phone': '01413589',\n",
       "   'cell': '60683052',\n",
       "   'id': {'name': 'CPR', 'value': '080447-0777'},\n",
       "   'picture': {'large': 'https://randomuser.me/api/portraits/women/42.jpg',\n",
       "    'medium': 'https://randomuser.me/api/portraits/med/women/42.jpg',\n",
       "    'thumbnail': 'https://randomuser.me/api/portraits/thumb/women/42.jpg'},\n",
       "   'nat': 'DK'}],\n",
       " 'info': {'seed': 'd9fc83cf8cc37ab4',\n",
       "  'results': 1,\n",
       "  'page': 1,\n",
       "  'version': '1.4'}}"
      ]
     },
     "execution_count": 20,
     "metadata": {},
     "output_type": "execute_result"
    }
   ],
   "source": [
    "requests.get(\"https://randomuser.me/api/\").json()"
   ]
  },
  {
   "cell_type": "code",
   "execution_count": 21,
   "metadata": {},
   "outputs": [
    {
     "data": {
      "text/plain": [
       "{'results': [{'gender': 'female',\n",
       "   'name': {'title': 'Ms', 'first': 'Ramona', 'last': 'Grant'},\n",
       "   'location': {'street': {'number': 6539, 'name': 'Rolling Green Rd'},\n",
       "    'city': 'Las Vegas',\n",
       "    'state': 'Virginia',\n",
       "    'country': 'United States',\n",
       "    'postcode': 68431,\n",
       "    'coordinates': {'latitude': '84.6757', 'longitude': '102.7386'},\n",
       "    'timezone': {'offset': '-8:00',\n",
       "     'description': 'Pacific Time (US & Canada)'}},\n",
       "   'email': 'ramona.grant@example.com',\n",
       "   'login': {'uuid': '5d2ab7ea-0f20-4e73-9457-739a917b77b1',\n",
       "    'username': 'goldenladybug512',\n",
       "    'password': 'cubbies',\n",
       "    'salt': 'b8ic5Bn1',\n",
       "    'md5': 'e135b775f70175bf8625533f172ec849',\n",
       "    'sha1': 'bf037f41e23d940bb0cb13138f6aead9a587370b',\n",
       "    'sha256': '2efdffbc06290b138617ea5e224ebc4e62265afb873cc14f5b9d047fec669f72'},\n",
       "   'dob': {'date': '1955-08-25T23:15:07.037Z', 'age': 69},\n",
       "   'registered': {'date': '2014-09-28T11:51:15.498Z', 'age': 10},\n",
       "   'phone': '(614) 744-6025',\n",
       "   'cell': '(569) 848-0165',\n",
       "   'id': {'name': 'SSN', 'value': '069-73-7714'},\n",
       "   'picture': {'large': 'https://randomuser.me/api/portraits/women/61.jpg',\n",
       "    'medium': 'https://randomuser.me/api/portraits/med/women/61.jpg',\n",
       "    'thumbnail': 'https://randomuser.me/api/portraits/thumb/women/61.jpg'},\n",
       "   'nat': 'US'}],\n",
       " 'info': {'seed': 'a4d9cbbeeb759eaf',\n",
       "  'results': 1,\n",
       "  'page': 1,\n",
       "  'version': '1.4'}}"
      ]
     },
     "execution_count": 21,
     "metadata": {},
     "output_type": "execute_result"
    }
   ],
   "source": [
    "requests.get(\"https://randomuser.me/api/?gender=female\").json()"
   ]
  },
  {
   "cell_type": "code",
   "execution_count": 22,
   "metadata": {},
   "outputs": [
    {
     "data": {
      "text/plain": [
       "{'results': [{'gender': 'female',\n",
       "   'name': {'title': 'Ms', 'first': 'Christiane', 'last': 'Joos'},\n",
       "   'location': {'street': {'number': 7668, 'name': 'Kirchweg'},\n",
       "    'city': 'Köln',\n",
       "    'state': 'Hamburg',\n",
       "    'country': 'Germany',\n",
       "    'postcode': 86262,\n",
       "    'coordinates': {'latitude': '57.8259', 'longitude': '-117.3800'},\n",
       "    'timezone': {'offset': '-7:00',\n",
       "     'description': 'Mountain Time (US & Canada)'}},\n",
       "   'email': 'christiane.joos@example.com',\n",
       "   'login': {'uuid': '6b2c875d-140d-4c1c-a85b-0715de2313a7',\n",
       "    'username': 'goldenpeacock145',\n",
       "    'password': 'lllll',\n",
       "    'salt': 'escYWeVx',\n",
       "    'md5': 'c7bfeee18bc50973a809e7fe13021dc8',\n",
       "    'sha1': '260e870d10bb3828b1b0ffc7fafb6dbffea617e6',\n",
       "    'sha256': '80c44f67eeb3d0d3140b4b1c6b19990172da2f0fd4111319e730787b0662afa5'},\n",
       "   'dob': {'date': '1972-08-24T13:03:46.941Z', 'age': 52},\n",
       "   'registered': {'date': '2004-08-18T03:39:06.256Z', 'age': 20},\n",
       "   'phone': '0881-2126405',\n",
       "   'cell': '0175-5140110',\n",
       "   'id': {'name': 'SVNR', 'value': '58 240872 J 690'},\n",
       "   'picture': {'large': 'https://randomuser.me/api/portraits/women/34.jpg',\n",
       "    'medium': 'https://randomuser.me/api/portraits/med/women/34.jpg',\n",
       "    'thumbnail': 'https://randomuser.me/api/portraits/thumb/women/34.jpg'},\n",
       "   'nat': 'DE'}],\n",
       " 'info': {'seed': '53db8f471fb13481',\n",
       "  'results': 1,\n",
       "  'page': 1,\n",
       "  'version': '1.4'}}"
      ]
     },
     "execution_count": 22,
     "metadata": {},
     "output_type": "execute_result"
    }
   ],
   "source": [
    "requests.get(\"https://randomuser.me/api/?gender=female&nat=de\").json()"
   ]
  },
  {
   "cell_type": "code",
   "execution_count": 23,
   "metadata": {},
   "outputs": [
    {
     "data": {
      "text/plain": [
       "{'results': [{'gender': 'female',\n",
       "   'name': {'title': 'Miss', 'first': 'Yasemin', 'last': 'Straßer'},\n",
       "   'location': {'street': {'number': 8266, 'name': 'Brunnenstraße'},\n",
       "    'city': 'Weißenberg',\n",
       "    'state': 'Nordrhein-Westfalen',\n",
       "    'country': 'Germany',\n",
       "    'postcode': 76200,\n",
       "    'coordinates': {'latitude': '-22.6575', 'longitude': '176.2390'},\n",
       "    'timezone': {'offset': '+10:00',\n",
       "     'description': 'Eastern Australia, Guam, Vladivostok'}},\n",
       "   'email': 'yasemin.strasser@example.com',\n",
       "   'login': {'uuid': 'd0ed2e9b-f90e-4253-a37e-c7f35bb2cde4',\n",
       "    'username': 'lazywolf781',\n",
       "    'password': 'ccccc',\n",
       "    'salt': '7Ka6kvoM',\n",
       "    'md5': '7abdd0b6d614ec1483a46f06de4c06a3',\n",
       "    'sha1': '8c4b55bc7e82dc3b115ee979e201ed2d2d646b1f',\n",
       "    'sha256': '82d8940d8be5d51d9b5f8b6f66cef69c11a2bdbbadae1d5eed98bd6416e8fe42'},\n",
       "   'dob': {'date': '1971-06-16T14:28:02.558Z', 'age': 53},\n",
       "   'registered': {'date': '2021-07-15T18:35:56.607Z', 'age': 3},\n",
       "   'phone': '0367-1888283',\n",
       "   'cell': '0173-2603681',\n",
       "   'id': {'name': 'SVNR', 'value': '12 160671 S 689'},\n",
       "   'picture': {'large': 'https://randomuser.me/api/portraits/women/18.jpg',\n",
       "    'medium': 'https://randomuser.me/api/portraits/med/women/18.jpg',\n",
       "    'thumbnail': 'https://randomuser.me/api/portraits/thumb/women/18.jpg'},\n",
       "   'nat': 'DE'}],\n",
       " 'info': {'seed': 'a7b54e89dca6f491',\n",
       "  'results': 1,\n",
       "  'page': 1,\n",
       "  'version': '1.4'}}"
      ]
     },
     "execution_count": 23,
     "metadata": {},
     "output_type": "execute_result"
    }
   ],
   "source": [
    "query_params = {\"gender\": \"female\", \"nat\": \"de\"}\n",
    "requests.get(\"https://randomuser.me/api/\", params=query_params).json()"
   ]
  },
  {
   "cell_type": "code",
   "execution_count": 24,
   "metadata": {},
   "outputs": [
    {
     "data": {
      "text/plain": [
       "[{'weight': {'imperial': '8 - 20', 'metric': '4 - 9'},\n",
       "  'id': 'raga',\n",
       "  'name': 'Ragamuffin',\n",
       "  'cfa_url': 'http://cfa.org/Breeds/BreedsKthruR/Ragamuffin.aspx',\n",
       "  'vetstreet_url': 'http://www.vetstreet.com/cats/ragamuffin',\n",
       "  'vcahospitals_url': 'https://vcahospitals.com/know-your-pet/cat-breeds/ragamuffin',\n",
       "  'temperament': 'Affectionate, Friendly, Gentle, Calm',\n",
       "  'origin': 'United States',\n",
       "  'country_codes': 'US',\n",
       "  'country_code': 'US',\n",
       "  'description': 'The Ragamuffin is calm, even tempered and gets along well with all family members. Changes in routine generally do not upset her. She is an ideal companion for those in apartments, and with children due to her patient nature.',\n",
       "  'life_span': '12 - 16',\n",
       "  'indoor': 0,\n",
       "  'lap': 1,\n",
       "  'alt_names': '',\n",
       "  'adaptability': 5,\n",
       "  'affection_level': 5,\n",
       "  'child_friendly': 4,\n",
       "  'dog_friendly': 5,\n",
       "  'energy_level': 3,\n",
       "  'grooming': 3,\n",
       "  'health_issues': 3,\n",
       "  'intelligence': 5,\n",
       "  'shedding_level': 3,\n",
       "  'social_needs': 3,\n",
       "  'stranger_friendly': 5,\n",
       "  'vocalisation': 1,\n",
       "  'experimental': 0,\n",
       "  'hairless': 0,\n",
       "  'natural': 0,\n",
       "  'rare': 0,\n",
       "  'rex': 0,\n",
       "  'suppressed_tail': 0,\n",
       "  'short_legs': 0,\n",
       "  'wikipedia_url': 'https://en.wikipedia.org/wiki/Ragamuffin_cat',\n",
       "  'hypoallergenic': 0,\n",
       "  'reference_image_id': 'SMuZx-bFM'}]"
      ]
     },
     "execution_count": 24,
     "metadata": {},
     "output_type": "execute_result"
    }
   ],
   "source": [
    "query_params = {\"q\": \"ragamuffin\"}\n",
    "endpoint = \"https://api.thecatapi.com/v1/breeds/search\"\n",
    "requests.get(endpoint, params=query_params).json()"
   ]
  },
  {
   "cell_type": "code",
   "execution_count": 25,
   "metadata": {},
   "outputs": [
    {
     "data": {
      "text/plain": [
       "<Response [200]>"
      ]
     },
     "execution_count": 25,
     "metadata": {},
     "output_type": "execute_result"
    }
   ],
   "source": [
    "endpoint = \"https://api.nasa.gov/mars-photos/api/v1/rovers/curiosity/photos\"\n",
    "# Replace DEMO_KEY below with your own key if you generated one.\n",
    "api_key = \"DEMO_KEY\"\n",
    "query_params = {\"api_key\": api_key, \"earth_date\": \"2020-07-01\"}\n",
    "response = requests.get(endpoint, params=query_params)\n",
    "response"
   ]
  },
  {
   "cell_type": "code",
   "execution_count": 26,
   "metadata": {},
   "outputs": [
    {
     "name": "stdout",
     "output_type": "stream",
     "text": [
      "Found 12 photos\n"
     ]
    },
    {
     "data": {
      "text/plain": [
       "'https://mars.nasa.gov/msl-raw-images/proj/msl/redops/ods/surface/sol/02809/opgs/edr/rcam/RRB_646869036EDR_F0810628RHAZ00337M_.JPG'"
      ]
     },
     "execution_count": 26,
     "metadata": {},
     "output_type": "execute_result"
    }
   ],
   "source": [
    "response.json()\n",
    "\n",
    "\n",
    "\n",
    "\n",
    "\n",
    "\n",
    "\n",
    "\n",
    "\n",
    "\n",
    "\n",
    "\n",
    "\n",
    "\n",
    "\n",
    "photos = response.json()[\"photos\"]\n",
    "print(f\"Found {len(photos)} photos\")\n",
    "\n",
    "photos[4][\"img_src\"]"
   ]
  },
  {
   "cell_type": "code",
   "execution_count": 27,
   "metadata": {},
   "outputs": [],
   "source": [
    "import requests\n",
    "\n",
    "# REPLACE the following variables with your Client ID and Client Secret\n",
    "CLIENT_ID = \"<REPLACE_WITH_CLIENT_ID>\"\n",
    "CLIENT_SECRET = \"<REPLACE_WITH_CLIENT_SECRET>\"\n",
    "\n",
    "# REPLACE the following variable with what you added in the\n",
    "# \"Authorization callback URL\" field\n",
    "REDIRECT_URI = \"<REPLACE_WITH_REDIRECT_URI>\""
   ]
  },
  {
   "cell_type": "code",
   "execution_count": 28,
   "metadata": {},
   "outputs": [],
   "source": [
    "# ...\n",
    "\n",
    "def create_oauth_link():\n",
    "    params = {\n",
    "        \"client_id\": CLIENT_ID,\n",
    "        \"redirect_uri\": REDIRECT_URI,\n",
    "        \"scope\": \"user\",\n",
    "        \"response_type\": \"code\",\n",
    "    }\n",
    "\n",
    "    endpoint = \"https://github.com/login/oauth/authorize\"\n",
    "    response = requests.get(endpoint, params=params)\n",
    "    return response.url"
   ]
  },
  {
   "cell_type": "code",
   "execution_count": 29,
   "metadata": {},
   "outputs": [],
   "source": [
    "# ...\n",
    "\n",
    "def exchange_code_for_access_token(code=None):\n",
    "    params = {\n",
    "        \"client_id\": CLIENT_ID,\n",
    "        \"client_secret\": CLIENT_SECRET,\n",
    "        \"redirect_uri\": REDIRECT_URI,\n",
    "        \"code\": code,\n",
    "    }\n",
    "\n",
    "    headers = {\"Accept\": \"application/json\"}\n",
    "    endpoint = \"https://github.com/login/oauth/access_token\"\n",
    "    response = requests.post(endpoint, params=params, headers=headers).json()\n",
    "    return response[\"access_token\"]"
   ]
  },
  {
   "cell_type": "code",
   "execution_count": null,
   "metadata": {},
   "outputs": [
    {
     "name": "stdout",
     "output_type": "stream",
     "text": [
      "Follow the link to start the authentication with GitHub: https://github.com/login?client_id=%3CREPLACE_WITH_CLIENT_ID%3E&return_to=%2Flogin%2Foauth%2Fauthorize%3Fclient_id%3D%253CREPLACE_WITH_CLIENT_ID%253E%26redirect_uri%3D%253CREPLACE_WITH_REDIRECT_URI%253E%26response_type%3Dcode%26scope%3Duser\n"
     ]
    }
   ],
   "source": [
    "# ...\n",
    "\n",
    "link = create_oauth_link()\n",
    "print(f\"Follow the link to start the authentication with GitHub: {link}\")\n",
    "code = input(\"GitHub code: \")\n",
    "access_token = exchange_code_for_access_token(code)\n",
    "print(f\"Exchanged code {code} with access token: {access_token}\")"
   ]
  },
  {
   "cell_type": "code",
   "execution_count": null,
   "metadata": {},
   "outputs": [],
   "source": [
    "# ...\n",
    "\n",
    "def print_user_info(access_token=None):\n",
    "    headers = {\"Authorization\": f\"token {access_token}\"}\n",
    "    endpoint = \"https://api.github.com/user\"\n",
    "    response = requests.get(endpoint, headers=headers).json()\n",
    "    name = response[\"name\"]\n",
    "    username = response[\"login\"]\n",
    "    private_repos_count = response[\"total_private_repos\"]\n",
    "    print(\n",
    "        f\"{name} ({username}) | private repositories: {private_repos_count}\"\n",
    "    )\n",
    "\n",
    "# ..."
   ]
  }
 ],
 "metadata": {
  "kernelspec": {
   "display_name": "Python 3",
   "language": "python",
   "name": "python3"
  },
  "language_info": {
   "codemirror_mode": {
    "name": "ipython",
    "version": 3
   },
   "file_extension": ".py",
   "mimetype": "text/x-python",
   "name": "python",
   "nbconvert_exporter": "python",
   "pygments_lexer": "ipython3",
   "version": "3.13.2"
  }
 },
 "nbformat": 4,
 "nbformat_minor": 2
}
